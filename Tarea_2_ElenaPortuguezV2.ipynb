{
  "nbformat": 4,
  "nbformat_minor": 0,
  "metadata": {
    "colab": {
      "provenance": [],
      "include_colab_link": true
    },
    "kernelspec": {
      "name": "python3",
      "display_name": "Python 3"
    },
    "language_info": {
      "name": "python"
    }
  },
  "cells": [
    {
      "cell_type": "markdown",
      "metadata": {
        "id": "view-in-github",
        "colab_type": "text"
      },
      "source": [
        "<a href=\"https://colab.research.google.com/github/dev-researcher/automatas/blob/main/Tarea_2_ElenaPortuguezV2.ipynb\" target=\"_parent\"><img src=\"https://colab.research.google.com/assets/colab-badge.svg\" alt=\"Open In Colab\"/></a>"
      ]
    },
    {
      "cell_type": "markdown",
      "source": [
        "\n",
        "## **Instrucciones Generales:**\n",
        "\n",
        "- **Trabajo Individual**.\n",
        "- **Originalidad y Profundidad:** Se espera que los proyectos reflejen un alto nivel de comprensión y creatividad en el uso de teoría de autómatas.\n",
        "- **Formato de Entrega:**\n",
        "  - **Informe Escrito:** Documento formal con secciones claras, referencias y anexos si es necesario. Se entrega en Formato Google Colab\n",
        "- **Fecha de Entrega:** Lunes 14 Octubre a Medianoche.\n",
        "\n",
        "**Criterios de Evaluación:**\n",
        "\n",
        "- **Comprensión y Aplicación de Conceptos:** Uso correcto y profundo de teoría de autómatas.\n",
        "- **Calidad del Análisis:** Rigor en el análisis, identificación de configuraciones y justificación de conclusiones.\n",
        "- **Claridad y Organización:** Presentación clara y coherente de ideas, con soporte visual adecuado (diagramas, tablas).\n",
        "- **Originalidad y Creatividad:** Innovación en la definición del problema y en las soluciones propuestas.\n",
        "- **Cumplimiento de Especificaciones:** Adecuación a los requerimientos establecidos en el proyecto.\n",
        "\n",
        "**Escala de evaluación:**\n",
        "\n",
        "- Excelente, 100\n",
        "- Bueno, 85\n",
        "- Adecuado ,80\n",
        "- Necesita mejorar, 70\n",
        "\n",
        "**Bibliografía Recomendada:**\n",
        "  - Libro del curso y Libros y artículos sobre teoría de autómatas y lenguajes formales.\n",
        "  - Documentación sobre técnicas de verificación formal y modelado de sistemas.\n"
      ],
      "metadata": {
        "id": "oaxfypIMVRXT"
      }
    },
    {
      "cell_type": "markdown",
      "source": [
        "---\n",
        "## Problema Elegido\n",
        "\n",
        "**Problema 2: Verificación de un Algoritmo mediante Autómatas**\n",
        "\n",
        "La verificación formal de algoritmos es una herramienta poderosa para asegurar su correctitud y confiabilidad. En este proyecto, se les pide modelar un algoritmo programado en Python mediante un autómata que represente las configuraciones línea a línea del código. El objetivo es determinar si ciertas configuraciones o estados son posibles durante la ejecución y analizar implicaciones en términos de correctitud y eficiencia.\n",
        "\n",
        "**Especificaciones:**\n",
        "\n",
        "1. **Selección del Algoritmo:**\n",
        "\n",
        "   - **Algoritmo No Trivial:** Elijan un algoritmo que incluya estructuras de control complejas, como bucles anidados, recursión, gestión de excepciones, o interacción con estructuras de datos avanzadas (por ejemplo, árboles o grafos).\n",
        "   - **Contexto del Algoritmo:** Puede ser un algoritmo conocido (como algoritmos de ordenamiento avanzados, búsqueda en grafos, etc.) o uno diseñado por ustedes para resolver un problema específico.\n",
        "\n",
        "2. **Análisis del Código:**\n",
        "\n",
        "   - **Extracción de Estados y Transiciones:** Analicen el flujo de ejecución del código, identificando los posibles estados del programa y cómo se transita entre ellos.\n",
        "   - **Variables y Condiciones:** Consideren el valor de variables clave y las condiciones que afectan el flujo del programa.\n",
        "\n",
        "3. **Construcción del Autómata:**\n",
        "\n",
        "   - **Representación de Configuraciones:** Construyan un autómata (puede ser un autómata finito, un autómata de pila, o incluso un autómata más poderoso si es necesario) que capture las configuraciones del programa.\n",
        "   - **Detallado Línea a Línea:** Cada estado del autómata debe corresponder a una línea o bloque significativo del código, incluyendo condiciones y posibles bifurcaciones.\n",
        "   - **Implementación:** desarrollar un código en Python\n",
        "\n",
        "4. **Determinación de Configuraciones Posibles:**\n",
        "\n",
        "   - **Análisis de Alcanzabilidad:** Utilicen el autómata para determinar si ciertas configuraciones o estados son alcanzables.\n",
        "     - **Ejemplos de Configuraciones:** Por ejemplo, ¿puede una variable tomar un valor inesperado? ¿Es posible que se produzca una excepción en una línea específica? ¿Puede el programa entrar en un bucle infinito?\n",
        "   - **Validación de Propiedades:** Verifiquen propiedades como invariantes de bucle, condiciones de terminación, o ausencia de condiciones de carrera en contextos concurrentes.\n",
        "\n",
        "5. **Análisis y Discusión:**\n",
        "\n",
        "   - **Identificación de Errores Potenciales:** Basándose en el autómata, identifiquen posibles errores lógicos, condiciones no manejadas o vulnerabilidades.\n",
        "   - **Propuestas de Mejora:** Sugieran modificaciones al algoritmo para mejorar su correctitud, eficiencia o seguridad.\n",
        "\n",
        "6. **Informe y Presentación:**\n",
        "\n",
        "   - **Documentación Completa:** El informe debe incluir:\n",
        "     - **Descripción del Algoritmo:** Explicación detallada del código y su propósito.\n",
        "     - **Construcción del Autómata:** Diagramas, tablas y explicaciones que muestren cómo se modeló el algoritmo.\n",
        "     - **Resultados del Análisis:** Hallazgos sobre configuraciones posibles y su implicación.\n",
        "     - **Conclusiones y Recomendaciones:** Reflexiones sobre la importancia del análisis y sugerencias para futuros trabajos.\n",
        "\n",
        "**Objetivo:**\n",
        "\n",
        "Demostrar la capacidad de aplicar técnicas de teoría de autómatas para modelar y verificar algoritmos complejos, identificando posibles errores y mejorando la confiabilidad del software mediante un análisis formal y riguroso.\n"
      ],
      "metadata": {
        "id": "7xJfnqICSk65"
      }
    },
    {
      "cell_type": "markdown",
      "source": [
        "Solución:\n",
        "**Algoritmo de optimización de tiempo para ver series en Netflix**"
      ],
      "metadata": {
        "id": "v1tmSzGdDsam"
      }
    },
    {
      "cell_type": "markdown",
      "source": [
        "web test"
      ],
      "metadata": {
        "id": "-uzrogQBjupo"
      }
    },
    {
      "cell_type": "code",
      "source": [
        "# Instalar Selenium en Colab\n",
        "!pip install selenium\n"
      ],
      "metadata": {
        "colab": {
          "base_uri": "https://localhost:8080/"
        },
        "id": "kWnG7Hm9mYXI",
        "outputId": "8b5c9d49-63ab-4db2-eb8c-f6b620923fcf"
      },
      "execution_count": null,
      "outputs": [
        {
          "output_type": "stream",
          "name": "stdout",
          "text": [
            "Requirement already satisfied: selenium in /usr/local/lib/python3.10/dist-packages (4.25.0)\n",
            "Requirement already satisfied: urllib3<3,>=1.26 in /usr/local/lib/python3.10/dist-packages (from urllib3[socks]<3,>=1.26->selenium) (2.2.3)\n",
            "Requirement already satisfied: trio~=0.17 in /usr/local/lib/python3.10/dist-packages (from selenium) (0.26.2)\n",
            "Requirement already satisfied: trio-websocket~=0.9 in /usr/local/lib/python3.10/dist-packages (from selenium) (0.11.1)\n",
            "Requirement already satisfied: certifi>=2021.10.8 in /usr/local/lib/python3.10/dist-packages (from selenium) (2024.8.30)\n",
            "Requirement already satisfied: typing_extensions~=4.9 in /usr/local/lib/python3.10/dist-packages (from selenium) (4.12.2)\n",
            "Requirement already satisfied: websocket-client~=1.8 in /usr/local/lib/python3.10/dist-packages (from selenium) (1.8.0)\n",
            "Requirement already satisfied: attrs>=23.2.0 in /usr/local/lib/python3.10/dist-packages (from trio~=0.17->selenium) (24.2.0)\n",
            "Requirement already satisfied: sortedcontainers in /usr/local/lib/python3.10/dist-packages (from trio~=0.17->selenium) (2.4.0)\n",
            "Requirement already satisfied: idna in /usr/local/lib/python3.10/dist-packages (from trio~=0.17->selenium) (3.10)\n",
            "Requirement already satisfied: outcome in /usr/local/lib/python3.10/dist-packages (from trio~=0.17->selenium) (1.3.0.post0)\n",
            "Requirement already satisfied: sniffio>=1.3.0 in /usr/local/lib/python3.10/dist-packages (from trio~=0.17->selenium) (1.3.1)\n",
            "Requirement already satisfied: exceptiongroup in /usr/local/lib/python3.10/dist-packages (from trio~=0.17->selenium) (1.2.2)\n",
            "Requirement already satisfied: wsproto>=0.14 in /usr/local/lib/python3.10/dist-packages (from trio-websocket~=0.9->selenium) (1.2.0)\n",
            "Requirement already satisfied: pysocks!=1.5.7,<2.0,>=1.5.6 in /usr/local/lib/python3.10/dist-packages (from urllib3[socks]<3,>=1.26->selenium) (1.7.1)\n",
            "Requirement already satisfied: h11<1,>=0.9.0 in /usr/local/lib/python3.10/dist-packages (from wsproto>=0.14->trio-websocket~=0.9->selenium) (0.14.0)\n"
          ]
        }
      ]
    },
    {
      "cell_type": "code",
      "source": [
        "# Descargar el WebDriver para Chrome\n",
        "!pip install selenium\n",
        "!apt-get update\n",
        "!apt install chromium-chromedriver\n",
        "!which chromedriver\n",
        "\n",
        "# Importar Selenium y otras librerías necesarias\n",
        "from selenium import webdriver\n",
        "from selenium.webdriver.chrome.service import Service\n",
        "from selenium.webdriver.common.by import By\n",
        "from selenium.webdriver.common.keys import Keys\n",
        "import time\n",
        "import os\n",
        "\n",
        "# Configurar el WebDriver para Chrome\n",
        "options = webdriver.ChromeOptions()\n",
        "options.add_argument('--headless')  # Modo sin interfaz gráfica (headless)\n",
        "options.add_argument('--no-sandbox')\n",
        "options.add_argument('--disable-dev-shm-usage')\n",
        "\n",
        "# Specify the chromedriver path directly\n",
        "chromedriver_path = '/usr/bin/chromedriver'\n",
        "\n",
        "# Iniciar el navegador controlado por Selenium con las opciones correctas\n",
        "service = Service(executable_path=chromedriver_path)\n",
        "driver = webdriver.Chrome(service=service, options=options)\n",
        "\n",
        "# Navegar a la página de inicio de sesión de Netflix\n",
        "driver.get('https://www.netflix.com/login')\n",
        "\n",
        "# Esperar que la página cargue\n",
        "time.sleep(3)\n",
        "\n",
        "# Encontrar el campo de email y contraseña, y enviar las credenciales\n",
        "email_field = driver.find_element(By.NAME, 'elenaportuguez01@gmail.com')\n",
        "password_field = driver.find_element(By.NAME, 'Access06$')\n",
        "try:\n",
        "    email_field = driver.find_element(By.ID, 'id_userLoginId')\n",
        "    password_field = driver.find_element(By.ID, \"id_password\")\n",
        "except:\n",
        "    email_field = driver.find_element(By.NAME, 'email')\n",
        "    password_field = driver.find_element(By.NAME, \"password\")\n",
        "\n",
        "email_field.send_keys('elenaportuguez01@gmail.com')\n",
        "password_field.send_keys('Access06')\n",
        "\n",
        "# Enviar el formulario de inicio de sesión\n",
        "password_field.send_keys(Keys.RETURN)\n",
        "\n",
        "# Esperar que se cargue la página principal de Netflix después del inicio de sesión\n",
        "time.sleep(5)\n",
        "\n",
        "# Navegar a la sección \"Continuar viendo\"\n",
        "driver.get('https://www.netflix.com/browse/m/continue-watching')\n",
        "\n",
        "# Esperar que la página cargue por completo\n",
        "time.sleep(5)\n",
        "\n",
        "# Extraer todos los títulos de la lista \"Continuar viendo\"\n",
        "# Aquí se asume que el span que contiene los títulos tiene una clase similar a la mencionada\n",
        "continuar_viendo_titulos = driver.find_elements(By.XPATH, '//span[contains(@class, \"fallback-text\")]')\n",
        "\n",
        "# Lista para almacenar los títulos de la sección \"Continuar viendo\"\n",
        "titulos = [titulo.text for titulo in continuar_viendo_titulos]\n",
        "\n",
        "# Imprimir los títulos en una sola línea, separados por comas\n",
        "print(\"Títulos en 'Continuar viendo':\")\n",
        "print(\", \".join(titulos))\n",
        "\n",
        "# Cerrar el navegador controlado por Selenium\n",
        "driver.quit()"
      ],
      "metadata": {
        "id": "4W5ONudhjx1c",
        "colab": {
          "base_uri": "https://localhost:8080/",
          "height": 1000
        },
        "outputId": "c7bbeb70-8eb9-4262-b47f-7c9494dddcbf"
      },
      "execution_count": 22,
      "outputs": [
        {
          "output_type": "stream",
          "name": "stdout",
          "text": [
            "Requirement already satisfied: selenium in /usr/local/lib/python3.10/dist-packages (4.25.0)\n",
            "Requirement already satisfied: urllib3<3,>=1.26 in /usr/local/lib/python3.10/dist-packages (from urllib3[socks]<3,>=1.26->selenium) (2.2.3)\n",
            "Requirement already satisfied: trio~=0.17 in /usr/local/lib/python3.10/dist-packages (from selenium) (0.26.2)\n",
            "Requirement already satisfied: trio-websocket~=0.9 in /usr/local/lib/python3.10/dist-packages (from selenium) (0.11.1)\n",
            "Requirement already satisfied: certifi>=2021.10.8 in /usr/local/lib/python3.10/dist-packages (from selenium) (2024.8.30)\n",
            "Requirement already satisfied: typing_extensions~=4.9 in /usr/local/lib/python3.10/dist-packages (from selenium) (4.12.2)\n",
            "Requirement already satisfied: websocket-client~=1.8 in /usr/local/lib/python3.10/dist-packages (from selenium) (1.8.0)\n",
            "Requirement already satisfied: attrs>=23.2.0 in /usr/local/lib/python3.10/dist-packages (from trio~=0.17->selenium) (24.2.0)\n",
            "Requirement already satisfied: sortedcontainers in /usr/local/lib/python3.10/dist-packages (from trio~=0.17->selenium) (2.4.0)\n",
            "Requirement already satisfied: idna in /usr/local/lib/python3.10/dist-packages (from trio~=0.17->selenium) (3.10)\n",
            "Requirement already satisfied: outcome in /usr/local/lib/python3.10/dist-packages (from trio~=0.17->selenium) (1.3.0.post0)\n",
            "Requirement already satisfied: sniffio>=1.3.0 in /usr/local/lib/python3.10/dist-packages (from trio~=0.17->selenium) (1.3.1)\n",
            "Requirement already satisfied: exceptiongroup in /usr/local/lib/python3.10/dist-packages (from trio~=0.17->selenium) (1.2.2)\n",
            "Requirement already satisfied: wsproto>=0.14 in /usr/local/lib/python3.10/dist-packages (from trio-websocket~=0.9->selenium) (1.2.0)\n",
            "Requirement already satisfied: pysocks!=1.5.7,<2.0,>=1.5.6 in /usr/local/lib/python3.10/dist-packages (from urllib3[socks]<3,>=1.26->selenium) (1.7.1)\n",
            "Requirement already satisfied: h11<1,>=0.9.0 in /usr/local/lib/python3.10/dist-packages (from wsproto>=0.14->trio-websocket~=0.9->selenium) (0.14.0)\n",
            "Hit:1 https://cloud.r-project.org/bin/linux/ubuntu jammy-cran40/ InRelease\n",
            "Hit:2 https://developer.download.nvidia.com/compute/cuda/repos/ubuntu2204/x86_64  InRelease\n",
            "Ign:3 https://r2u.stat.illinois.edu/ubuntu jammy InRelease\n",
            "Hit:4 http://security.ubuntu.com/ubuntu jammy-security InRelease\n",
            "Hit:5 https://r2u.stat.illinois.edu/ubuntu jammy Release\n",
            "Hit:6 http://archive.ubuntu.com/ubuntu jammy InRelease\n",
            "Hit:7 http://archive.ubuntu.com/ubuntu jammy-updates InRelease\n",
            "Hit:9 http://archive.ubuntu.com/ubuntu jammy-backports InRelease\n",
            "Hit:10 https://ppa.launchpadcontent.net/deadsnakes/ppa/ubuntu jammy InRelease\n",
            "Hit:11 https://ppa.launchpadcontent.net/graphics-drivers/ppa/ubuntu jammy InRelease\n",
            "Hit:12 https://ppa.launchpadcontent.net/ubuntugis/ppa/ubuntu jammy InRelease\n",
            "Reading package lists... Done\n",
            "W: Skipping acquire of configured file 'main/source/Sources' as repository 'https://r2u.stat.illinois.edu/ubuntu jammy InRelease' does not seem to provide it (sources.list entry misspelt?)\n",
            "Reading package lists... Done\n",
            "Building dependency tree... Done\n",
            "Reading state information... Done\n",
            "chromium-chromedriver is already the newest version (1:85.0.4183.83-0ubuntu2.22.04.1).\n",
            "0 upgraded, 0 newly installed, 0 to remove and 50 not upgraded.\n",
            "/usr/bin/chromedriver\n"
          ]
        },
        {
          "output_type": "error",
          "ename": "WebDriverException",
          "evalue": "Message: Service /usr/bin/chromedriver unexpectedly exited. Status code was: 1\n",
          "traceback": [
            "\u001b[0;31m---------------------------------------------------------------------------\u001b[0m",
            "\u001b[0;31mWebDriverException\u001b[0m                        Traceback (most recent call last)",
            "\u001b[0;32m<ipython-input-22-b4ce3765211a>\u001b[0m in \u001b[0;36m<cell line: 26>\u001b[0;34m()\u001b[0m\n\u001b[1;32m     24\u001b[0m \u001b[0;31m# Iniciar el navegador controlado por Selenium con las opciones correctas\u001b[0m\u001b[0;34m\u001b[0m\u001b[0;34m\u001b[0m\u001b[0m\n\u001b[1;32m     25\u001b[0m \u001b[0mservice\u001b[0m \u001b[0;34m=\u001b[0m \u001b[0mService\u001b[0m\u001b[0;34m(\u001b[0m\u001b[0mexecutable_path\u001b[0m\u001b[0;34m=\u001b[0m\u001b[0mchromedriver_path\u001b[0m\u001b[0;34m)\u001b[0m\u001b[0;34m\u001b[0m\u001b[0;34m\u001b[0m\u001b[0m\n\u001b[0;32m---> 26\u001b[0;31m \u001b[0mdriver\u001b[0m \u001b[0;34m=\u001b[0m \u001b[0mwebdriver\u001b[0m\u001b[0;34m.\u001b[0m\u001b[0mChrome\u001b[0m\u001b[0;34m(\u001b[0m\u001b[0mservice\u001b[0m\u001b[0;34m=\u001b[0m\u001b[0mservice\u001b[0m\u001b[0;34m,\u001b[0m \u001b[0moptions\u001b[0m\u001b[0;34m=\u001b[0m\u001b[0moptions\u001b[0m\u001b[0;34m)\u001b[0m\u001b[0;34m\u001b[0m\u001b[0;34m\u001b[0m\u001b[0m\n\u001b[0m\u001b[1;32m     27\u001b[0m \u001b[0;34m\u001b[0m\u001b[0m\n\u001b[1;32m     28\u001b[0m \u001b[0;31m# Navegar a la página de inicio de sesión de Netflix\u001b[0m\u001b[0;34m\u001b[0m\u001b[0;34m\u001b[0m\u001b[0m\n",
            "\u001b[0;32m/usr/local/lib/python3.10/dist-packages/selenium/webdriver/chrome/webdriver.py\u001b[0m in \u001b[0;36m__init__\u001b[0;34m(self, options, service, keep_alive)\u001b[0m\n\u001b[1;32m     43\u001b[0m         \u001b[0moptions\u001b[0m \u001b[0;34m=\u001b[0m \u001b[0moptions\u001b[0m \u001b[0;32mif\u001b[0m \u001b[0moptions\u001b[0m \u001b[0;32melse\u001b[0m \u001b[0mOptions\u001b[0m\u001b[0;34m(\u001b[0m\u001b[0;34m)\u001b[0m\u001b[0;34m\u001b[0m\u001b[0;34m\u001b[0m\u001b[0m\n\u001b[1;32m     44\u001b[0m \u001b[0;34m\u001b[0m\u001b[0m\n\u001b[0;32m---> 45\u001b[0;31m         super().__init__(\n\u001b[0m\u001b[1;32m     46\u001b[0m             \u001b[0mbrowser_name\u001b[0m\u001b[0;34m=\u001b[0m\u001b[0mDesiredCapabilities\u001b[0m\u001b[0;34m.\u001b[0m\u001b[0mCHROME\u001b[0m\u001b[0;34m[\u001b[0m\u001b[0;34m\"browserName\"\u001b[0m\u001b[0;34m]\u001b[0m\u001b[0;34m,\u001b[0m\u001b[0;34m\u001b[0m\u001b[0;34m\u001b[0m\u001b[0m\n\u001b[1;32m     47\u001b[0m             \u001b[0mvendor_prefix\u001b[0m\u001b[0;34m=\u001b[0m\u001b[0;34m\"goog\"\u001b[0m\u001b[0;34m,\u001b[0m\u001b[0;34m\u001b[0m\u001b[0;34m\u001b[0m\u001b[0m\n",
            "\u001b[0;32m/usr/local/lib/python3.10/dist-packages/selenium/webdriver/chromium/webdriver.py\u001b[0m in \u001b[0;36m__init__\u001b[0;34m(self, browser_name, vendor_prefix, options, service, keep_alive)\u001b[0m\n\u001b[1;32m     53\u001b[0m \u001b[0;34m\u001b[0m\u001b[0m\n\u001b[1;32m     54\u001b[0m         \u001b[0mself\u001b[0m\u001b[0;34m.\u001b[0m\u001b[0mservice\u001b[0m\u001b[0;34m.\u001b[0m\u001b[0mpath\u001b[0m \u001b[0;34m=\u001b[0m \u001b[0mfinder\u001b[0m\u001b[0;34m.\u001b[0m\u001b[0mget_driver_path\u001b[0m\u001b[0;34m(\u001b[0m\u001b[0;34m)\u001b[0m\u001b[0;34m\u001b[0m\u001b[0;34m\u001b[0m\u001b[0m\n\u001b[0;32m---> 55\u001b[0;31m         \u001b[0mself\u001b[0m\u001b[0;34m.\u001b[0m\u001b[0mservice\u001b[0m\u001b[0;34m.\u001b[0m\u001b[0mstart\u001b[0m\u001b[0;34m(\u001b[0m\u001b[0;34m)\u001b[0m\u001b[0;34m\u001b[0m\u001b[0;34m\u001b[0m\u001b[0m\n\u001b[0m\u001b[1;32m     56\u001b[0m \u001b[0;34m\u001b[0m\u001b[0m\n\u001b[1;32m     57\u001b[0m         executor = ChromiumRemoteConnection(\n",
            "\u001b[0;32m/usr/local/lib/python3.10/dist-packages/selenium/webdriver/common/service.py\u001b[0m in \u001b[0;36mstart\u001b[0;34m(self)\u001b[0m\n\u001b[1;32m    103\u001b[0m         \u001b[0mcount\u001b[0m \u001b[0;34m=\u001b[0m \u001b[0;36m0\u001b[0m\u001b[0;34m\u001b[0m\u001b[0;34m\u001b[0m\u001b[0m\n\u001b[1;32m    104\u001b[0m         \u001b[0;32mwhile\u001b[0m \u001b[0;32mTrue\u001b[0m\u001b[0;34m:\u001b[0m\u001b[0;34m\u001b[0m\u001b[0;34m\u001b[0m\u001b[0m\n\u001b[0;32m--> 105\u001b[0;31m             \u001b[0mself\u001b[0m\u001b[0;34m.\u001b[0m\u001b[0massert_process_still_running\u001b[0m\u001b[0;34m(\u001b[0m\u001b[0;34m)\u001b[0m\u001b[0;34m\u001b[0m\u001b[0;34m\u001b[0m\u001b[0m\n\u001b[0m\u001b[1;32m    106\u001b[0m             \u001b[0;32mif\u001b[0m \u001b[0mself\u001b[0m\u001b[0;34m.\u001b[0m\u001b[0mis_connectable\u001b[0m\u001b[0;34m(\u001b[0m\u001b[0;34m)\u001b[0m\u001b[0;34m:\u001b[0m\u001b[0;34m\u001b[0m\u001b[0;34m\u001b[0m\u001b[0m\n\u001b[1;32m    107\u001b[0m                 \u001b[0;32mbreak\u001b[0m\u001b[0;34m\u001b[0m\u001b[0;34m\u001b[0m\u001b[0m\n",
            "\u001b[0;32m/usr/local/lib/python3.10/dist-packages/selenium/webdriver/common/service.py\u001b[0m in \u001b[0;36massert_process_still_running\u001b[0;34m(self)\u001b[0m\n\u001b[1;32m    116\u001b[0m         \u001b[0mreturn_code\u001b[0m \u001b[0;34m=\u001b[0m \u001b[0mself\u001b[0m\u001b[0;34m.\u001b[0m\u001b[0mprocess\u001b[0m\u001b[0;34m.\u001b[0m\u001b[0mpoll\u001b[0m\u001b[0;34m(\u001b[0m\u001b[0;34m)\u001b[0m\u001b[0;34m\u001b[0m\u001b[0;34m\u001b[0m\u001b[0m\n\u001b[1;32m    117\u001b[0m         \u001b[0;32mif\u001b[0m \u001b[0mreturn_code\u001b[0m\u001b[0;34m:\u001b[0m\u001b[0;34m\u001b[0m\u001b[0;34m\u001b[0m\u001b[0m\n\u001b[0;32m--> 118\u001b[0;31m             \u001b[0;32mraise\u001b[0m \u001b[0mWebDriverException\u001b[0m\u001b[0;34m(\u001b[0m\u001b[0;34mf\"Service {self._path} unexpectedly exited. Status code was: {return_code}\"\u001b[0m\u001b[0;34m)\u001b[0m\u001b[0;34m\u001b[0m\u001b[0;34m\u001b[0m\u001b[0m\n\u001b[0m\u001b[1;32m    119\u001b[0m \u001b[0;34m\u001b[0m\u001b[0m\n\u001b[1;32m    120\u001b[0m     \u001b[0;32mdef\u001b[0m \u001b[0mis_connectable\u001b[0m\u001b[0;34m(\u001b[0m\u001b[0mself\u001b[0m\u001b[0;34m)\u001b[0m \u001b[0;34m->\u001b[0m \u001b[0mbool\u001b[0m\u001b[0;34m:\u001b[0m\u001b[0;34m\u001b[0m\u001b[0;34m\u001b[0m\u001b[0m\n",
            "\u001b[0;31mWebDriverException\u001b[0m: Message: Service /usr/bin/chromedriver unexpectedly exited. Status code was: 1\n"
          ]
        }
      ]
    },
    {
      "cell_type": "code",
      "source": [
        "from tabulate import tabulate\n",
        "import heapq\n",
        "\n",
        "# Función que imprime la tabla de episodios\n",
        "def mostrar_episodios_disponibles(episodios):\n",
        "    print(\"Estos son los episodios disponibles para ver:\\n\")\n",
        "    tabla = []\n",
        "    for serie, duraciones in episodios.items():\n",
        "        for i, duracion in enumerate(duraciones):\n",
        "            tabla.append([serie, f\"Episodio {i + 1}\", f\"{duracion} minutos\"])\n",
        "\n",
        "    # Imprimir la tabla usando 'tabulate'\n",
        "    print(tabulate(tabla, headers=[\"Serie\", \"Episodio\", \"Duración\"], tablefmt=\"grid\"))\n",
        "\n",
        "# Función que imprime la secuencia del autómata en un formato lineal\n",
        "def imprimir_secuencia_lineal(estado_actual, transicion, descripcion):\n",
        "    if estado_actual == 0:\n",
        "        print(\"\\n=== Interacciones del Autómata ===\")\n",
        "    print(f\"Estado {estado_actual} | Transición: {transicion} | Descripción: {descripcion}\")\n",
        "\n",
        "# Función recursiva que representa el autómata de selección de episodios\n",
        "def seleccionar_episodios_autómata(tiempo_disponible, episodios_heap, episodios_seleccionados, ultimo_episodio_serie=None, estado_actual=0):\n",
        "    imprimir_secuencia_lineal(estado_actual, \"Inicio\", f\"Tiempo disponible = {tiempo_disponible} minutos, Episodios restantes = {len(episodios_heap)}\")\n",
        "\n",
        "    # Estado 0: Caso base de terminación\n",
        "    if tiempo_disponible <= 0 or not episodios_heap:\n",
        "        imprimir_secuencia_lineal(estado_actual + 1, \"Final\", \"No queda tiempo o no hay episodios que encajen.\")\n",
        "        return episodios_seleccionados\n",
        "\n",
        "    # Estado 1: Evaluar episodios y descartar los que no encajan en el tiempo disponible\n",
        "    while episodios_heap and episodios_heap[0][0] > tiempo_disponible:\n",
        "        imprimir_secuencia_lineal(estado_actual + 2, \"Eliminar\", f\"Eliminando episodio de duración {-episodios_heap[0][0]} minutos.\")\n",
        "        heapq.heappop(episodios_heap)\n",
        "\n",
        "    # Estado 2: Si hay un episodio que encaja\n",
        "    if episodios_heap:\n",
        "        # Tomar los episodios con la misma duración que el primero\n",
        "        duracion_maxima = -episodios_heap[0][0]\n",
        "        candidatos = []\n",
        "\n",
        "        while episodios_heap and -episodios_heap[0][0] == duracion_maxima:\n",
        "            candidato = heapq.heappop(episodios_heap)\n",
        "            candidatos.append(candidato)\n",
        "\n",
        "        # Priorizar el candidato que pertenece a la misma serie que el último episodio seleccionado\n",
        "        if ultimo_episodio_serie is not None:\n",
        "            for candidato in candidatos:\n",
        "                if candidato[1] == ultimo_episodio_serie:\n",
        "                    episodios_seleccionados.append((candidato[1], -candidato[0]))\n",
        "                    imprimir_secuencia_lineal(estado_actual + 3, \"Seleccionar\", f\"Episodio de {candidato[1]} seleccionado con duración {-candidato[0]} minutos.\")\n",
        "                    break\n",
        "            else:\n",
        "                episodios_seleccionados.append((candidatos[0][1], -candidatos[0][0]))\n",
        "                imprimir_secuencia_lineal(estado_actual + 3, \"Seleccionar\", f\"Episodio de {candidatos[0][1]} seleccionado con duración {-candidatos[0][0]} minutos.\")\n",
        "        else:\n",
        "            episodios_seleccionados.append((candidatos[0][1], -candidatos[0][0]))\n",
        "            imprimir_secuencia_lineal(estado_actual + 3, \"Seleccionar\", f\"Episodio de {candidatos[0][1]} seleccionado con duración {-candidatos[0][0]} minutos.\")\n",
        "\n",
        "        # Reducir el tiempo disponible y continuar recursivamente\n",
        "        tiempo_disponible -= duracion_maxima\n",
        "        return seleccionar_episodios_autómata(tiempo_disponible, episodios_heap, episodios_seleccionados, episodios_seleccionados[-1][0], estado_actual + 4)\n",
        "    else:\n",
        "        imprimir_secuencia_lineal(estado_actual + 4, \"Final\", \"No hay episodios que encajen en el tiempo disponible.\")\n",
        "        return episodios_seleccionados\n",
        "\n",
        "# Manejo de excepciones y validaciones\n",
        "def optimizar_con_autómata(tiempo_disponible, episodios):\n",
        "    try:\n",
        "        if tiempo_disponible <= 0:\n",
        "            raise ValueError(\"El tiempo disponible debe ser mayor a cero.\")\n",
        "\n",
        "        # Validar que las duraciones de los episodios sean válidas\n",
        "        for serie, duraciones in episodios.items():\n",
        "            if any(duracion <= 0 for duracion in duraciones):\n",
        "                raise ValueError(f\"Todos los episodios deben tener duraciones mayores a cero. Error en la serie {serie}\")\n",
        "\n",
        "        # Crear lista de prioridades invertida (max-heap)\n",
        "        episodios_heap = []\n",
        "        for serie, duraciones in episodios.items():\n",
        "            for duracion in duraciones:\n",
        "                heapq.heappush(episodios_heap, (-duracion, serie))\n",
        "\n",
        "        episodios_seleccionados = []\n",
        "        # Iniciar el autómata\n",
        "        return seleccionar_episodios_autómata(tiempo_disponible, episodios_heap, episodios_seleccionados)\n",
        "\n",
        "    except ValueError as ve:\n",
        "        print(f\"Error: {ve}\")\n",
        "    except Exception as e:\n",
        "        print(f\"Ha ocurrido un error inesperado: {e}\")\n",
        "\n",
        "# Episodios de distintas series con su duración (en minutos)\n",
        "episodios = {\n",
        "    \"Breaking Bad\": [45, 47, 50],\n",
        "    \"Stranger Things\": [60, 55, 65],\n",
        "    \"The Office\": [22, 24, 21],\n",
        "    \"Dark\": [50, 55, 60]\n",
        "}\n",
        "\n",
        "# Mostrar tabla con episodios disponibles\n",
        "mostrar_episodios_disponibles(episodios)\n",
        "\n",
        "# Pedir al usuario el tiempo disponible para ver episodios\n",
        "try:\n",
        "    tiempo_disponible = int(input(\"\\n¿Cuánto tiempo tienes disponible para ver episodios? (en minutos): \"))\n",
        "except ValueError:\n",
        "    print(\"Por favor, ingresa un número válido.\")\n",
        "    tiempo_disponible = 0\n",
        "\n",
        "# Ejecutar el autómata\n",
        "resultado = optimizar_con_autómata(tiempo_disponible, episodios)\n",
        "\n",
        "# Mostrar el resultado final\n",
        "if resultado:\n",
        "    print(\"\\nEpisodios seleccionados:\")\n",
        "    for serie, duracion in resultado:\n",
        "        print(f\"- {serie}: {duracion} minutos\")\n",
        "else:\n",
        "    print(\"No se pudieron seleccionar episodios con el tiempo disponible.\")\n"
      ],
      "metadata": {
        "colab": {
          "base_uri": "https://localhost:8080/"
        },
        "id": "-U5WFOe0F23J",
        "outputId": "fdedfe07-8af2-49f1-f5f1-833c6e589792"
      },
      "execution_count": null,
      "outputs": [
        {
          "output_type": "stream",
          "name": "stdout",
          "text": [
            "Estos son los episodios disponibles para ver:\n",
            "\n",
            "+-----------------+------------+------------+\n",
            "| Serie           | Episodio   | Duración   |\n",
            "+=================+============+============+\n",
            "| Breaking Bad    | Episodio 1 | 45 minutos |\n",
            "+-----------------+------------+------------+\n",
            "| Breaking Bad    | Episodio 2 | 47 minutos |\n",
            "+-----------------+------------+------------+\n",
            "| Breaking Bad    | Episodio 3 | 50 minutos |\n",
            "+-----------------+------------+------------+\n",
            "| Stranger Things | Episodio 1 | 60 minutos |\n",
            "+-----------------+------------+------------+\n",
            "| Stranger Things | Episodio 2 | 55 minutos |\n",
            "+-----------------+------------+------------+\n",
            "| Stranger Things | Episodio 3 | 65 minutos |\n",
            "+-----------------+------------+------------+\n",
            "| The Office      | Episodio 1 | 22 minutos |\n",
            "+-----------------+------------+------------+\n",
            "| The Office      | Episodio 2 | 24 minutos |\n",
            "+-----------------+------------+------------+\n",
            "| The Office      | Episodio 3 | 21 minutos |\n",
            "+-----------------+------------+------------+\n",
            "| Dark            | Episodio 1 | 50 minutos |\n",
            "+-----------------+------------+------------+\n",
            "| Dark            | Episodio 2 | 55 minutos |\n",
            "+-----------------+------------+------------+\n",
            "| Dark            | Episodio 3 | 60 minutos |\n",
            "+-----------------+------------+------------+\n",
            "\n",
            "¿Cuánto tiempo tienes disponible para ver episodios? (en minutos): 130\n",
            "\n",
            "=== Interacciones del Autómata ===\n",
            "Estado 0 | Transición: Inicio | Descripción: Tiempo disponible = 130 minutos, Episodios restantes = 12\n",
            "Estado 3 | Transición: Seleccionar | Descripción: Episodio de Stranger Things seleccionado con duración 65 minutos.\n",
            "Estado 4 | Transición: Inicio | Descripción: Tiempo disponible = 65 minutos, Episodios restantes = 11\n",
            "Estado 7 | Transición: Seleccionar | Descripción: Episodio de Stranger Things seleccionado con duración 60 minutos.\n",
            "Estado 8 | Transición: Inicio | Descripción: Tiempo disponible = 5 minutos, Episodios restantes = 9\n",
            "Estado 11 | Transición: Seleccionar | Descripción: Episodio de Stranger Things seleccionado con duración 55 minutos.\n",
            "Estado 12 | Transición: Inicio | Descripción: Tiempo disponible = -50 minutos, Episodios restantes = 7\n",
            "Estado 13 | Transición: Final | Descripción: No queda tiempo o no hay episodios que encajen.\n",
            "\n",
            "Episodios seleccionados:\n",
            "- Stranger Things: 65 minutos\n",
            "- Stranger Things: 60 minutos\n",
            "- Stranger Things: 55 minutos\n"
          ]
        }
      ]
    },
    {
      "cell_type": "markdown",
      "source": [
        "Generar tabla de series para continuar viendo:"
      ],
      "metadata": {
        "id": "rRkoskkEWRqx"
      }
    },
    {
      "cell_type": "code",
      "source": [
        "pip install tabulate\n"
      ],
      "metadata": {
        "colab": {
          "base_uri": "https://localhost:8080/"
        },
        "id": "fE5zPM20WKge",
        "outputId": "8be66553-ff5e-442c-9771-cae56bca0a14"
      },
      "execution_count": null,
      "outputs": [
        {
          "output_type": "stream",
          "name": "stdout",
          "text": [
            "Requirement already satisfied: tabulate in /usr/local/lib/python3.10/dist-packages (0.9.0)\n"
          ]
        }
      ]
    }
  ]
}
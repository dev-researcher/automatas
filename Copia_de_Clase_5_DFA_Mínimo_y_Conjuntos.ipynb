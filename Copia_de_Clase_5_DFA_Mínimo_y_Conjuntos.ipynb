{
  "nbformat": 4,
  "nbformat_minor": 0,
  "metadata": {
    "colab": {
      "provenance": [],
      "include_colab_link": true
    },
    "kernelspec": {
      "name": "python3",
      "display_name": "Python 3"
    },
    "language_info": {
      "name": "python"
    }
  },
  "cells": [
    {
      "cell_type": "markdown",
      "metadata": {
        "id": "view-in-github",
        "colab_type": "text"
      },
      "source": [
        "<a href=\"https://colab.research.google.com/github/dev-researcher/automatas/blob/main/Copia_de_Clase_5_DFA_M%C3%ADnimo_y_Conjuntos.ipynb\" target=\"_parent\"><img src=\"https://colab.research.google.com/assets/colab-badge.svg\" alt=\"Open In Colab\"/></a>"
      ]
    },
    {
      "cell_type": "markdown",
      "source": [
        "# Clase 5: DFA Mínimo y Conjuntos\n",
        "Tomás de Camino Beck, Ph.D.\n",
        "\n",
        "Estas notas son tomadas y adaptadas del libro:  \n",
        "Esparza, J., & Blondin, M. (2023). *Automata Theory: An Algorithmic Approach*. MIT Press. ISBN: 9780262048637."
      ],
      "metadata": {
        "id": "QtHG9qSWGDIn"
      }
    },
    {
      "cell_type": "markdown",
      "source": [
        "---\n",
        "## DFA Mínimo\n",
        "\n",
        "- **DFA/NFA mínimo:**\n",
        "  - Es mínimo si no existe otro DFA/NFA que reconozca el mismo lenguaje con menos estados.\n",
        "  - Cada lenguaje regular tiene un DFA mínimo único (con isomorfismos).\n",
        "\n",
        "- **Algoritmo de minimización:**\n",
        "  - Convierte un DFA dado en su DFA mínimo único.\n",
        "  - Ejemplo en la figura 2.1 que reconocen el mismo lenguaje.\n",
        "\n",
        "- **Consecuencias de un DFA mínimo:**\n",
        "  - **Eficiencia de almacenamiento:** El DFA mínimo utiliza la mínima cantidad de memoria.\n",
        "  - **Verificación de igualdad:** La unicidad del DFA mínimo permite comprobar rápidamente si dos lenguajes regulares son iguales verificando si sus DFAs mínimos son isomorfos."
      ],
      "metadata": {
        "id": "xsz2LSB3GtF7"
      }
    },
    {
      "cell_type": "markdown",
      "source": [
        "### Algoritmo de Hopcroft para la Minimización de un DFA\n",
        "\n",
        "El **algoritmo de Hopcroft** es un método eficiente para minimizar un DFA, es decir, para encontrar un DFA equivalente con el menor número de estados posible. Aquí te presento una descripción del algoritmo utilizando la notación que hemos discutido.\n",
        "\n",
        "#### Input\n",
        "- Un DFA $A = (Q, \\Sigma, \\delta, q_0, F)$.\n",
        "\n",
        "#### Output\n",
        "- Un DFA mínimo $M = (Q', \\Sigma, \\delta', q_0', F')$ tal que $L(M) = L(A)$ y $M$ tiene el menor número de estados posible.\n",
        "\n",
        "#### Paso a Paso del Algoritmo\n",
        "\n",
        "1. **Inicialización:**\n",
        "   - Se empieza con una partición inicial $P$ que divide los estados en dos grupos:\n",
        "     - $F$: El conjunto de estados finales.\n",
        "     - $Q \\setminus F$: El conjunto de estados no finales.\n",
        "\n",
        "2. **Bucle Principal:**\n",
        "   - Mientras $W$ no esté vacío:\n",
        "     1. Seleccionar y remover un conjunto $A$ de $W$.\n",
        "     2. Para cada símbolo $a \\in \\Sigma$, hacer lo siguiente:\n",
        "        - Calcular $X = \\lbrace q \\in Q \\mid \\delta(q, a) \\in A \\rbrace$, que es el conjunto de estados que tienen una transición hacia $A$ bajo el símbolo $a$.\n",
        "        - Para cada conjunto $Y$ en $P$ que interseca con $X$, dividir $Y$ en dos subconjuntos:\n",
        "          - $Y_1 = Y \\cap X$\n",
        "          - $Y_2 = Y \\setminus X$\n",
        "        - Reemplazar $Y$ en $P$ por $Y_1$ y $Y_2$.\n",
        "        - Si $Y$ estaba en $W$, reemplazarlo por $Y_1$ y $Y_2$. Si no, añadir el subconjunto más pequeño entre $Y_1$ y $Y_2$ a $W$.\n",
        "\n",
        "3. **Construcción del DFA Mínimo:**\n",
        "   - Una vez que se ha estabilizado la partición $P$, se construye el DFA mínimo $M$:\n",
        "     - Los estados de $M$ son los conjuntos en la partición $P$.\n",
        "     - El estado inicial $q_0'$ es el conjunto en $P$ que contiene $q_0$.\n",
        "     - Los estados finales $F'$ son aquellos conjuntos en $P$ que intersectan con $F$.\n",
        "     - La función de transición $\\delta'$ se define de manera que $\\delta'(Y, a) = Z$, donde $Z$ es el conjunto en $P$ que contiene los estados hacia los que transita cualquier estado en $Y$ bajo el símbolo $a$ en el DFA original.\n",
        "\n",
        "4. **Resultado:**\n",
        "   - El DFA $M$ es el DFA mínimo equivalente al DFA original $A$.\n",
        "\n",
        "### Notas Finales\n",
        "- **Eficiencia:** El algoritmo de Hopcroft es uno de los métodos más eficientes conocidos para la minimización de DFAs, con una complejidad temporal de $O(n \\log n)$ en el peor de los casos, donde $n$ es el número de estados.\n",
        "- **Canonicidad:** El DFA mínimo resultante es único (hasta isomorfismo), lo que significa que cualquier DFA que reconozca el mismo lenguaje tendrá la misma estructura mínima después de la minimización.\n",
        "\n",
        "Este algoritmo es fundamental en teoría de autómatas y tiene aplicaciones prácticas en áreas como la optimización de compiladores, verificación formal y análisis de patrones."
      ],
      "metadata": {
        "id": "maK4Ka5hJlH4"
      }
    },
    {
      "cell_type": "markdown",
      "source": [
        "\n",
        "#### Nota: $Q \\backslash F$\n",
        "\n",
        "La operación $Q \\backslash F$ representa la **diferencia de conjuntos**, es decir, el conjunto de todos los elementos que están en $Q$ pero no en $F$. Matemáticamente, esto se expresa como:\n",
        "\n",
        "$$Q \\backslash F = \\lbrace q \\in Q : q \\notin F \\rbrace$$\n",
        "\n",
        "En este ejemplo:\n",
        "\n",
        "- $Q = \\lbrace q_0, q_1, q_2, q_3, q_4 \\rbrace$\n",
        "- $F = \\lbrace q_1, q_3 \\rbrace$\n",
        "\n",
        "Entonces, la diferencia $Q \\ F$ es el conjunto de estados que están en $Q$ pero no en $F$:\n",
        "\n",
        "$$Q \\backslash F = \\lbrace q_0, q_2, q_4 \\rbrace$$"
      ],
      "metadata": {
        "id": "GEzDhDKHJyyQ"
      }
    },
    {
      "cell_type": "markdown",
      "source": [
        "### Ejemplo (no está en el libro)\n",
        "\n",
        "COnsideremos al DFA $A$, donde:\n",
        "\n",
        "- $Q=\\left\\{ q_0, q_1, q_2, q_3, q_4, q_5 \\right\\}$.\n",
        "- $\\Sigma = \\{0, 1\\}$.\n",
        "- La función de transición es $\\delta$.\n",
        "- El estado inicial es $q_0$.\n",
        "- El conjunto de estados finales es $\\left\\{ q_2, q_5 \\right\\}$.\n",
        "\n",
        "Para el ejemplo de clase vasmo a aplicar informalmente el algoritmo al autómata con la siguiente tabla de transicion:\n",
        "\n",
        "| $\\delta$  | $0$  | $1$  |\n",
        "|-----------|------|------|\n",
        "| $q_0$     | $q_1$ | $q_3$ |\n",
        "| $q_1$     | $q_1$ | $q_4$ |\n",
        "| $q_2$     | $q_0$ | $q_2$ |\n",
        "| $q_3$     | $q_3$ | $q_2$ |\n",
        "| $q_4$     | $q_4$ | $q_5$ |\n",
        "| $q_5$     | $q_0$ | $q_2$ |\n",
        "\n",
        "\n",
        "\n"
      ],
      "metadata": {
        "id": "dvDqE7QZoy4o"
      }
    },
    {
      "cell_type": "markdown",
      "source": [
        "---\n",
        "\n",
        "## Imprementación de Operaciones sobre Conjuntos\n",
        "\n",
        "- **Autómatas como estructuras de datos:** En este libro, los autómatas se ven como estructuras de datos sobre un universo de objetos $U$.\n",
        "- **Ejemplo con números naturales:**\n",
        "  - Considera $U$ como el conjunto de números naturales y $A$ como un autómata sobre el alfabeto $\\Sigma = \\{0, 1\\}$, Figura 3.1.\n",
        "  - Las palabras en $A$ se interpretan como números binarios (bit más significativo primero).\n",
        "  - $A$ acepta infinitos números pero no todos; por ejemplo, rechaza el número 4.\n",
        "- **Pregunta motivadora:**\n",
        "  - ¿Acepta $A$ todos los múltiplos de 3?\n",
        "  - Algunos múltiplos de 3, como 0, 3, 6, 9, y 12, son aceptados por $A$.\n",
        "  - El enfoque de fuerza bruta para verificar esto es tedioso e ineficiente.\n",
        "- **Mejor enfoque:**\n",
        "  - Considerar el autómata $B$, que acepta todos los múltiplos de 3.\n",
        "  - Reformular la pregunta: ¿Se cumple que $\\mathcal{L}(A) \\subseteq \\mathcal{L}(B)$ o ¿Se cumple que $\\mathcal{L}(A) \\cap \\mathcal{L}(B) = \\mathcal{L}(B)$?\n",
        "- **Para responder:**\n",
        "  - Implementar operaciones de inclusión, intersección, o igualdad.\n",
        "  - Un algoritmo puede generar automáticamente un contraejemplo (una palabra en $B$ que no sea aceptada por $A$).\n",
        "- **Aplicaciones:**\n",
        "  - Estos algoritmos son útiles, por ejemplo, en la detección automática de errores en programas concurrentes.\n",
        "  - Los contraejemplos en este contexto son equivalentes a detectar bugs."
      ],
      "metadata": {
        "id": "BTxTQDBfAsis"
      }
    },
    {
      "cell_type": "markdown",
      "source": [
        "![alt](https://drive.google.com/uc?id=1eCaxLY8cx2TaJ_VdImHpUA1ZyxpiJrQ1)\n"
      ],
      "metadata": {
        "id": "JyQMYbyABgqT"
      }
    },
    {
      "cell_type": "markdown",
      "source": [
        "\n",
        "- Los **autómatas como estructura de datos** soportan las siguientes operaciones,Donde $U$ es el universo de objetos, $X, Y \\subseteq U$ y $x \\in U$:\n",
        "\n",
        "  - **Member$(x, X)$:**  true si $x \\in X$.\n",
        "  - **Complement$(X)$:**  $U \\setminus X$.\n",
        "  - **Intersection$(X, Y)$:**  $X \\cap Y$.\n",
        "  - **Union$(X, Y)$:**  $X \\cup Y$.\n",
        "  - **Empty$(X)$:**  true si $X = \\emptyset$.\n",
        "  - **Universal$(X)$:**  true si $X = U$.\n",
        "  - **Included$(X, Y)$:** true si $X \\subseteq Y$.\n",
        "  - **Equal$(X, Y)$:** true si $X = Y$.\n",
        "\n",
        "Se asume que existe una bijección entre $U$ y $\\Sigma^*$, es decir que nuestro universo es  $\\Sigma^*$. En nuestra notación de palabras y lenguajes, las primeras operaciones serían:\n",
        "\n",
        "  - **Member$(w, L)$**: Devuelve true si $w \\in L$, false en caso contrario.\n",
        "  - **Complement$(L)$**: Devuelve el complemento de $L$, es decir, $\\overline{L}$."
      ],
      "metadata": {
        "id": "jzfC9rH6C5He"
      }
    },
    {
      "cell_type": "markdown",
      "source": [
        "### Membresía\n",
        "\n",
        "- Para verificar la pertenencia de una palabra $w$ a un lenguaje, se ejecuta una corrida del DFA en $w$.\n",
        "- Es útil definir un algoritmo `MemDFA[A](w, q)` que verifique si la palabra $w$ es aceptada desde el estado $q$ en $A$, es decir, si $w \\in \\mathcal{L}_A(q)$.\n",
        "- La operación `Member(w, L)` puede implementarse como `MemDFA[A](w, q_0)`, donde $A$ es el autómata que representa a $L$.\n",
        "- Usando las funciones `head(aw) = a` y `tail(aw) = w` para $a \\in \\Sigma$ y $w \\in \\Sigma^*$, la verificación se describe en el algoritmo 7.\n",
        "\n"
      ],
      "metadata": {
        "id": "rxya1xfCggkc"
      }
    },
    {
      "cell_type": "markdown",
      "source": [
        "![alt](https://drive.google.com/uc?id=1Ik9Qglh-TKkbG-pOiGbjnHBXqunw_XC5)"
      ],
      "metadata": {
        "id": "PLPofHpchp3x"
      }
    },
    {
      "cell_type": "markdown",
      "source": [
        "- **Complementación en DFAs:**\n",
        "  - Un DFA tiene exactamente una ejecución para cada palabra, y esta es aceptante si y solo si llega a un estado final.\n",
        "  - Si intercambiamos los estados finales y no finales, la ejecución de una palabra se convierte en aceptante si y solo si antes no lo era.\n",
        "  - El nuevo DFA aceptará una palabra si y solo si el DFA original no la aceptaba.\n",
        "\n",
        "- **Resultado:**\n",
        "  - Se obtiene un procedimiento lineal (`CompDFA`) que complementa un DFA al intercambiar los estados finales y no finales.\n",
        "\n",
        "Este procedimiento es eficiente y transforma el DFA original en su complemento con un tiempo de ejecución lineal, debido a que solo requiere una pasada para identificar y cambiar los estados finales."
      ],
      "metadata": {
        "id": "d-Y4Z8irnAnv"
      }
    },
    {
      "cell_type": "markdown",
      "source": [
        "![alt](https://drive.google.com/uc?id=1ATuW2pj1NG7ro59Pxr9-FUB4zZB61wI6)"
      ],
      "metadata": {
        "id": "4f5vA9kWnFVC"
      }
    },
    {
      "cell_type": "markdown",
      "source": [
        "### Operaciones Booleanas\n",
        "\n",
        "- **Implementación Genérica para Operaciones Booleanas:**\n",
        "  - En lugar de implementar operaciones específicas para unión e intersección, se proporciona una implementación genérica para todas las operaciones booleanas binarias.\n",
        "  \n",
        "- **Funcionamiento:**\n",
        "  - Dado dos DFAs $A_1$ y $A_2$ y una operación booleana binaria (como unión, intersección o diferencia), la implementación devuelve un DFA que reconoce el resultado de aplicar la operación a $\\mathcal{L}(A_1)$ y $\\mathcal{L}(A_2)$.\n",
        "  \n",
        "- **Estados y Transiciones:**\n",
        "  - Los DFAs resultantes de diferentes operaciones booleanas tienen los mismos estados y transiciones; solo difieren en el conjunto de estados finales.\n",
        "\n",
        "- **Definición del Emparejamiento:**\n",
        "  - Este DFA, con un conjunto de estados finales aún no especificado, se denomina el emparejamiento de $A_1$ y $A_2$, denotado como $[A_1, A_2]$."
      ],
      "metadata": {
        "id": "t0As0RwSn7lh"
      }
    },
    {
      "cell_type": "markdown",
      "source": [
        "**Definición 3.1.** Sean $A_1 = (Q_1, \\Sigma, \\delta_1, q_{01}, F_1)$ y $A_2 = (Q_2, \\Sigma, \\delta_2, q_{02}, F_2)$ dos DFAs. El emparejamiento $[A_1, A_2]$ de $A_1$ y $A_2$ es la tupla $(Q, \\Sigma, \\delta, q_0)$ donde:\n",
        "\n",
        "- $Q = \\{[q_1, q_2] : q_1 \\in Q_1, q_2 \\in Q_2\\}$,\n",
        "- $\\delta = \\{([q_1, q_2], a, [q'_1, q'_2]) : (q_1, a, q'_1) \\in \\delta_1, (q_2, a, q'_2) \\in \\delta_2\\}$,\n",
        "- $q_0 = [q_{01}, q_{02}]$.\n",
        "\n",
        "La ejecución de $[A_1, A_2]$ en una palabra de $\\Sigma^*$ se define como para los DFAs."
      ],
      "metadata": {
        "id": "IuKtJHNepE7N"
      }
    },
    {
      "cell_type": "markdown",
      "source": [
        "### Ejemplo 3.2\n",
        "\n",
        "Aplicación del emparejamiento figura 3.5 (primeras dos líneas)\n",
        "\n",
        "![alt](https://drive.google.com/uc?id=1O5NBbI8q9hn3DZbjenzMfaquK0mBbOiy)"
      ],
      "metadata": {
        "id": "-c6bsYKsqwEF"
      }
    },
    {
      "cell_type": "markdown",
      "source": [],
      "metadata": {
        "id": "BaABlqkAska4"
      }
    },
    {
      "cell_type": "markdown",
      "source": [
        "## Reto\n",
        "\n",
        "- Implementar el algoritmo 9 de la página 74, e incluirlo en el código del DFA indicado por el profesor.\n",
        "- Usar el ejempllo de la figura 3.5 para probar\n",
        "\n",
        "![alt](https://drive.google.com/uc?id=1y42j7VBKxeiJMUFfJy10R26esnclqRRP)\n"
      ],
      "metadata": {
        "id": "hFwohzhwrc-3"
      }
    },
    {
      "cell_type": "code",
      "source": [
        "\n",
        "class DFA:\n",
        "    def __init__(self, Q, Sigma, delta, q0, F):\n",
        "        self.Q = Q          # Set of states\n",
        "        self.Sigma = Sigma  # Alphabet\n",
        "        self.delta = delta  # Transition function\n",
        "        self.q0 = q0        # Initial state\n",
        "        self.F = F          # Set of final states\n",
        "\n",
        "    def head(self, w):\n",
        "        \"\"\"Returns the first symbol of the word w.\"\"\"\n",
        "        return w[0] if w else None\n",
        "\n",
        "    def tail(self, w):\n",
        "        \"\"\"Returns the word w without its first symbol.\"\"\"\n",
        "        return w[1:] if w else \"\"\n",
        "\n",
        "    def MemDFA(self, w, q):\n",
        "        \"\"\"Recursive function to check if the DFA accepts the word w starting from state q.\"\"\"\n",
        "        if w == \"\":\n",
        "            return q in self.F\n",
        "        else:\n",
        "            a = self.head(w)        # Using head(w)\n",
        "            w_tail = self.tail(w)   # Using tail(w)\n",
        "            q_next = self.delta[q][a]\n",
        "            return self.MemDFA(w_tail, q_next)\n",
        "\n",
        "    def CompDFA(self):\n",
        "        \"\"\"Returns the complement of the current DFA.\"\"\"\n",
        "        # Step 1: Initialize Q', δ', q0' and F'\n",
        "        Q_prime = self.Q\n",
        "        delta_prime = self.delta\n",
        "        q0_prime = self.q0\n",
        "        F_prime = set()  # Initially empty\n",
        "\n",
        "        # Step 2: Complete F'\n",
        "        for q in self.Q:\n",
        "            if q not in self.F:\n",
        "                F_prime.add(q)\n",
        "\n",
        "        # Return the new complemented DFA\n",
        "        return DFA(Q_prime, self.Sigma, delta_prime, q0_prime, F_prime)\n",
        "    def print_dfa(self):\n",
        "        \"\"\"Prints all states and transitions of the DFA.\"\"\"\n",
        "        print(f\"States: {self.Q}\")\n",
        "        print(f\"Alphabet: {self.Sigma}\")\n",
        "        print(f\"Initial state: {self.q0}\")\n",
        "        print(f\"Final states: {self.F}\")\n",
        "        print(\"Transitions:\")\n",
        "        for state in self.Q:\n",
        "            for symbol in self.Sigma:\n",
        "                if symbol in self.delta[state]:\n",
        "                    print(f\"  {state} --{symbol}--> {self.delta[state][symbol]}\")\n",
        "\n",
        "    @staticmethod\n",
        "    def combine_dfa(dfa1, dfa2, operation):\n",
        "        \"\"\"Combine two DFAs using a boolean operation (AND or OR).\"\"\"\n",
        "        # Step 1: Create the combined state set Q'\n",
        "        Q_prime = {(q1, q2) for q1 in dfa1.Q for q2 in dfa2.Q}\n",
        "\n",
        "        # Step 2: Define the initial state q0' and the set of final states F'\n",
        "        q0_prime = (dfa1.q0, dfa2.q0)\n",
        "\n",
        "        # Step 3: Define the transition function delta'\n",
        "        delta_prime = {}\n",
        "        for (q1, q2) in Q_prime:\n",
        "            delta_prime[(q1, q2)] = {}\n",
        "            for a in dfa1.Sigma:\n",
        "                delta_prime[(q1, q2)][a] = (dfa1.delta[q1][a], dfa2.delta[q2][a])\n",
        "\n",
        "        # Step 4: Define the final states based on the boolean operation\n",
        "        if operation == \"AND\":\n",
        "            F_prime = {(q1, q2) for (q1, q2) in Q_prime if q1 in dfa1.F and q2 in dfa2.F}\n",
        "        elif operation == \"OR\":\n",
        "            F_prime = {(q1, q2) for (q1, q2) in Q_prime if q1 in dfa1.F or q2 in dfa2.F}\n",
        "        else:\n",
        "            raise ValueError(\"Invalid operation. Use 'AND' or 'OR'.\")\n",
        "\n",
        "        # Return the new combined DFA\n",
        "        return DFA(Q_prime, dfa1.Sigma, delta_prime, q0_prime, F_prime)\n",
        "\n",
        "\n",
        "\n",
        "\n",
        "\n",
        "\n",
        "\n",
        "\n",
        "\n",
        "\n",
        "Q1 = {'1', '2'}\n",
        "Sigma1 = {'a'}\n",
        "delta1 = {\n",
        "    '1': {'a': '2'},\n",
        "    '2': {'a': '1'}\n",
        "}\n",
        "q01 = '1'\n",
        "F1 = {'1'}\n",
        "\n",
        "dfa1 = DFA(Q1, Sigma1, delta1, q01, F1)\n",
        "#########################################\n",
        "\n",
        "Q2 = {'3', '4', '5'}\n",
        "Sigma2 = {'a'}\n",
        "delta2 = {\n",
        "    '3': {'a': '4'},\n",
        "    '4': {'a': '5'},\n",
        "\t'5': {'a': '3'}\n",
        "}\n",
        "q02 = '3'\n",
        "F2 = {'3'}\n",
        "dfa2 = DFA(Q2, Sigma2, delta2, q02, F2)\n",
        "\n",
        "\n",
        "# Combine DFAs using AND operation\n",
        "combined_dfa_and = DFA.combine_dfa(dfa1, dfa2, \"AND\")\n",
        "combined_dfa_or = DFA.combine_dfa(dfa1, dfa2, \"OR\")\n",
        "\n",
        "# Testing the combined DFA with some input strings\n",
        "input_string = \"aaaa\"\n",
        "\n",
        "\n",
        "\n",
        "\n",
        "print(f\"Input '{input_string}' accepted by AND combined DFA: {combined_dfa_and.MemDFA(input_string, combined_dfa_and.q0)}\")\n",
        "print(f\"Input '{input_string}' accepted by OR combined DFA: {combined_dfa_or.MemDFA(input_string, combined_dfa_or.q0)}\")\n",
        "\n",
        "combined_dfa_or.print_dfa()\n",
        "combined_dfa_and.print_dfa()\n",
        "\n",
        "\n"
      ],
      "metadata": {
        "colab": {
          "base_uri": "https://localhost:8080/"
        },
        "id": "lb7S7PRTqOd1",
        "outputId": "5aa0ad05-ee3f-4aa7-9cca-aecbe8c932d2"
      },
      "execution_count": null,
      "outputs": [
        {
          "output_type": "stream",
          "name": "stdout",
          "text": [
            "Input 'aaaa' accepted by AND combined DFA: False\n",
            "Input 'aaaa' accepted by OR combined DFA: True\n",
            "States: {('1', '4'), ('1', '3'), ('2', '3'), ('2', '4'), ('1', '5'), ('2', '5')}\n",
            "Alphabet: {'a'}\n",
            "Initial state: ('1', '3')\n",
            "Final states: {('1', '4'), ('1', '5'), ('2', '3'), ('1', '3')}\n",
            "Transitions:\n",
            "  ('1', '4') --a--> ('2', '5')\n",
            "  ('1', '3') --a--> ('2', '4')\n",
            "  ('2', '3') --a--> ('1', '4')\n",
            "  ('2', '4') --a--> ('1', '5')\n",
            "  ('1', '5') --a--> ('2', '3')\n",
            "  ('2', '5') --a--> ('1', '3')\n",
            "States: {('1', '4'), ('1', '3'), ('2', '3'), ('2', '4'), ('1', '5'), ('2', '5')}\n",
            "Alphabet: {'a'}\n",
            "Initial state: ('1', '3')\n",
            "Final states: {('1', '3')}\n",
            "Transitions:\n",
            "  ('1', '4') --a--> ('2', '5')\n",
            "  ('1', '3') --a--> ('2', '4')\n",
            "  ('2', '3') --a--> ('1', '4')\n",
            "  ('2', '4') --a--> ('1', '5')\n",
            "  ('1', '5') --a--> ('2', '3')\n",
            "  ('2', '5') --a--> ('1', '3')\n"
          ]
        }
      ]
    },
    {
      "cell_type": "code",
      "source": [],
      "metadata": {
        "id": "ZR9Aqo_ly_N8"
      },
      "execution_count": null,
      "outputs": []
    }
  ]
}
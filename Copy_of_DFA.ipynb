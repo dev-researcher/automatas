{
  "nbformat": 4,
  "nbformat_minor": 0,
  "metadata": {
    "colab": {
      "provenance": [],
      "include_colab_link": true
    },
    "kernelspec": {
      "name": "python3",
      "display_name": "Python 3"
    },
    "language_info": {
      "name": "python"
    }
  },
  "cells": [
    {
      "cell_type": "markdown",
      "metadata": {
        "id": "view-in-github",
        "colab_type": "text"
      },
      "source": [
        "<a href=\"https://colab.research.google.com/github/dev-researcher/automatas/blob/main/Copy_of_DFA.ipynb\" target=\"_parent\"><img src=\"https://colab.research.google.com/assets/colab-badge.svg\" alt=\"Open In Colab\"/></a>"
      ]
    },
    {
      "cell_type": "markdown",
      "source": [
        "#1"
      ],
      "metadata": {
        "id": "N4ZNFXKfgcCB"
      }
    },
    {
      "cell_type": "code",
      "execution_count": null,
      "metadata": {
        "id": "5PCGOPD87zFW"
      },
      "outputs": [],
      "source": [
        "class DFA:\n",
        "    def __init__(self, Q, Sigma, delta, q0, F):\n",
        "        self.Q = Q  # Conjunto de estados\n",
        "        self.Sigma = Sigma  # Alfabeto\n",
        "        self.delta = delta  # Función de transición\n",
        "        self.q0 = q0  # Estado inicial\n",
        "        self.F = F  # Conjunto de estados finales\n",
        "\n",
        "    def delta_hat(self, state, symbol):\n",
        "        \"\"\"\n",
        "        Aplica la función de transición δ sobre un estado y un símbolo.\n",
        "        Args:\n",
        "            state (str): Estado actual del autómata.\n",
        "            symbol (str): Símbolo del alfabeto a procesar.\n",
        "        Returns:\n",
        "            str or None: El siguiente estado después de aplicar la transición,\n",
        "                         o None si no hay transición definida.\n",
        "        \"\"\"\n",
        "        if state in self.Q and symbol in self.Sigma:\n",
        "            return self.delta.get((state, symbol))\n",
        "        return None\n",
        "\n",
        "\n",
        "    def accepts(self, input_string):\n",
        "        \"\"\"\n",
        "        Determina si la cadena de entrada es aceptada por el autómata.\n",
        "\n",
        "        Args:\n",
        "            input_string (str): Cadena de entrada compuesta por símbolos del alfabeto.\n",
        "\n",
        "        Returns:\n",
        "            bool: True si la cadena es aceptada (termina en un estado final), False en caso contrario.\n",
        "        \"\"\"\n",
        "        current_state = self.q0\n",
        "        for symbol in input_string:\n",
        "            current_state = self.delta_hat(current_state, symbol)\n",
        "            if current_state is None:\n",
        "                return False\n",
        "        return current_state in self.F"
      ]
    },
    {
      "cell_type": "code",
      "source": [],
      "metadata": {
        "id": "p5N6Avn7ewEU"
      },
      "execution_count": null,
      "outputs": []
    },
    {
      "cell_type": "code",
      "source": [
        "#Ejemplo 1.8 del libro\n",
        "Q = {'q0', 'q1', 'q2', 'q3'}\n",
        "Sigma = {'a', 'b'}\n",
        "transitions = {\n",
        "    ('q0', 'a'): 'q1',\n",
        "    ('q1', 'a'): 'q0',\n",
        "    ('q2', 'a'): 'q3',\n",
        "    ('q3', 'a'): 'q2',\n",
        "    ('q0', 'b'): 'q3',\n",
        "    ('q1', 'b'): 'q2',\n",
        "    ('q2', 'b'): 'q1',\n",
        "    ('q3', 'b'): 'q0'\n",
        "}\n",
        "q0 = 'q0'\n",
        "F = {'q0'}\n",
        "\n",
        "# Creación del autómata\n",
        "automaton = DFA(Q, Sigma, transitions, q0, F)\n",
        "\n",
        "# Ejemplos de uso\n",
        "input_string = \"aabb\"\n",
        "print(f\"La cadena '{input_string}' es aceptada: {automaton.accepts(input_string)}\")\n",
        "\n",
        "input_string = \"abbb\"\n",
        "print(f\"La cadena '{input_string}' es aceptada: {automaton.accepts(input_string)}\")"
      ],
      "metadata": {
        "colab": {
          "base_uri": "https://localhost:8080/",
          "height": 207
        },
        "id": "I9it7AmVOHdo",
        "outputId": "5134b5b0-b4b9-4431-f548-125579910b98"
      },
      "execution_count": null,
      "outputs": [
        {
          "output_type": "error",
          "ename": "NameError",
          "evalue": "name 'DFA' is not defined",
          "traceback": [
            "\u001b[0;31m---------------------------------------------------------------------------\u001b[0m",
            "\u001b[0;31mNameError\u001b[0m                                 Traceback (most recent call last)",
            "\u001b[0;32m<ipython-input-1-68387835cdf1>\u001b[0m in \u001b[0;36m<cell line: 18>\u001b[0;34m()\u001b[0m\n\u001b[1;32m     16\u001b[0m \u001b[0;34m\u001b[0m\u001b[0m\n\u001b[1;32m     17\u001b[0m \u001b[0;31m# Creación del autómata\u001b[0m\u001b[0;34m\u001b[0m\u001b[0;34m\u001b[0m\u001b[0m\n\u001b[0;32m---> 18\u001b[0;31m \u001b[0mautomaton\u001b[0m \u001b[0;34m=\u001b[0m \u001b[0mDFA\u001b[0m\u001b[0;34m(\u001b[0m\u001b[0mQ\u001b[0m\u001b[0;34m,\u001b[0m \u001b[0mSigma\u001b[0m\u001b[0;34m,\u001b[0m \u001b[0mtransitions\u001b[0m\u001b[0;34m,\u001b[0m \u001b[0mq0\u001b[0m\u001b[0;34m,\u001b[0m \u001b[0mF\u001b[0m\u001b[0;34m)\u001b[0m\u001b[0;34m\u001b[0m\u001b[0;34m\u001b[0m\u001b[0m\n\u001b[0m\u001b[1;32m     19\u001b[0m \u001b[0;34m\u001b[0m\u001b[0m\n\u001b[1;32m     20\u001b[0m \u001b[0;31m# Ejemplos de uso\u001b[0m\u001b[0;34m\u001b[0m\u001b[0;34m\u001b[0m\u001b[0m\n",
            "\u001b[0;31mNameError\u001b[0m: name 'DFA' is not defined"
          ]
        }
      ]
    },
    {
      "cell_type": "code",
      "source": [],
      "metadata": {
        "id": "POHt-VLwezAK"
      },
      "execution_count": null,
      "outputs": []
    },
    {
      "cell_type": "markdown",
      "source": [
        "#2"
      ],
      "metadata": {
        "id": "SLgWsjwbe0Dl"
      }
    },
    {
      "cell_type": "code",
      "source": [
        "class NFA:\n",
        "    def __init__(self, Q, Sigma, delta, q0, F):\n",
        "        self.Q = Q  # Conjunto de estados\n",
        "        self.Sigma = Sigma  # Alfabeto\n",
        "        self.delta = delta  # Función de transición\n",
        "        self.q0 = q0  # Estado inicial\n",
        "        self.F = F  # Conjunto de estados finales\n",
        "\n",
        "    def delta_hat(self, states, symbol):\n",
        "        \"\"\"\n",
        "        Aplica la función de transición extendida δ̂ sobre un conjunto de estados y un símbolo.\n",
        "\n",
        "        Args:\n",
        "            states (set): Conjunto de estados actuales del autómata.\n",
        "            symbol (str): Símbolo del alfabeto a procesar.\n",
        "\n",
        "        Returns:\n",
        "            set: Conjunto de estados alcanzables después de aplicar la transición.\n",
        "        \"\"\"\n",
        "        next_states = set()\n",
        "        for state in states:\n",
        "            next_states.update(self.delta.get((state, symbol), []))\n",
        "        return next_states\n",
        "\n",
        "    def accepts(self, input_string):\n",
        "        \"\"\"\n",
        "        Determina si la cadena de entrada es aceptada por el autómata.\n",
        "\n",
        "        Args:\n",
        "            input_string (str): Cadena de entrada compuesta por símbolos del alfabeto.\n",
        "\n",
        "        Returns:\n",
        "            bool: True si la cadena es aceptada (termina en un estado final), False en caso contrario.\n",
        "        \"\"\"\n",
        "        current_states = {self.q0}\n",
        "        for symbol in input_string:\n",
        "            current_states = self.delta_hat(current_states, symbol)\n",
        "\n",
        "        return bool(current_states & self.F)\n",
        "\n",
        "# Definición del NFA para a*b*a*a\n",
        "Q = {'q0', 'q1', 'q2', 'q3', 'q4'}\n",
        "Sigma = {'a', 'b'}\n",
        "delta = {\n",
        "    ('q0', 'a'): {'q0', 'q1'},\n",
        "    ('q1', 'b'): {'q2'},\n",
        "    ('q2', 'b'): {'q2'},\n",
        "    ('q2', 'a'): {'q3'},\n",
        "    ('q3', 'a'): {'q4'},\n",
        "}\n",
        "q0 = 'q0'\n",
        "F = {'q4'}\n",
        "\n",
        "nfa = NFA(Q, Sigma, delta, q0, F)\n",
        "\n",
        "# Ejemplo de prueba\n",
        "print(nfa.accepts(\"bba\"))  # False\n",
        "print(nfa.accepts(\"aaabaa\"))  # True\n"
      ],
      "metadata": {
        "id": "DBCrDviOe1uv",
        "outputId": "bc43960c-4fc0-4ad8-9473-4dfcc41e6539",
        "colab": {
          "base_uri": "https://localhost:8080/"
        }
      },
      "execution_count": null,
      "outputs": [
        {
          "output_type": "stream",
          "name": "stdout",
          "text": [
            "False\n",
            "True\n"
          ]
        }
      ]
    },
    {
      "cell_type": "markdown",
      "source": [
        "#3"
      ],
      "metadata": {
        "id": "vtZ3buPDe5WO"
      }
    },
    {
      "cell_type": "code",
      "source": [
        "class DFA:\n",
        "    def __init__(self, Q, Sigma, delta, q0, F):\n",
        "        self.Q = Q  # Conjunto de estados\n",
        "        self.Sigma = Sigma  # Alfabeto\n",
        "        self.delta = delta  # Función de transición\n",
        "        self.q0 = q0  # Estado inicial\n",
        "        self.F = F  # Conjunto de estados finales\n",
        "\n",
        "    def delta_hat(self, state, symbol):\n",
        "        \"\"\"\n",
        "        Aplica la función de transición δ sobre un estado y un símbolo.\n",
        "\n",
        "        Args:\n",
        "            state (str): Estado actual del autómata.\n",
        "            symbol (str): Símbolo del alfabeto a procesar.\n",
        "\n",
        "        Returns:\n",
        "            str or None: El siguiente estado después de aplicar la transición,\n",
        "                         o None si no hay transición definida.\n",
        "        \"\"\"\n",
        "        if state in self.Q and symbol in self.Sigma:\n",
        "            return self.delta.get((state, symbol))\n",
        "        return None\n",
        "\n",
        "    def accepts(self, input_string):\n",
        "        \"\"\"\n",
        "        Determina si la cadena de entrada es aceptada por el autómata.\n",
        "\n",
        "        Args:\n",
        "            input_string (str): Cadena de entrada compuesta por símbolos del alfabeto.\n",
        "\n",
        "        Returns:\n",
        "            bool: True si la cadena es aceptada (termina en un estado final), False en caso contrario.\n",
        "        \"\"\"\n",
        "        current_state = self.q0\n",
        "        for symbol in input_string:\n",
        "            current_state = self.delta_hat(current_state, symbol)\n",
        "            if current_state is None:\n",
        "                return False\n",
        "        return current_state in self.F\n",
        "\n",
        "# Definición del DFA para a*b*a*a\n",
        "Q = {'q0', 'q1', 'q2', 'q3', 'q4', 'q5'}\n",
        "Sigma = {'a', 'b'}\n",
        "delta = {\n",
        "    ('q0', 'a'): 'q0',\n",
        "    ('q0', 'b'): 'q1',\n",
        "    ('q1', 'b'): 'q1',\n",
        "    ('q1', 'a'): 'q2',\n",
        "    ('q2', 'a'): 'q3',\n",
        "    ('q3', 'a'): 'q4',\n",
        "}\n",
        "q0 = 'q0'\n",
        "F = {'q4'}\n",
        "\n",
        "dfa = DFA(Q, Sigma, delta, q0, F)\n",
        "\n",
        "# Ejemplo de prueba\n",
        "print(dfa.accepts(\"bba\"))  # False\n",
        "print(dfa.accepts(\"aaabaa\"))  # True\n"
      ],
      "metadata": {
        "id": "R0w8Ocoxe6_w",
        "outputId": "c10ae053-b050-4a86-a740-a54c79e15124",
        "colab": {
          "base_uri": "https://localhost:8080/"
        }
      },
      "execution_count": null,
      "outputs": [
        {
          "output_type": "stream",
          "name": "stdout",
          "text": [
            "False\n",
            "False\n"
          ]
        }
      ]
    }
  ]
}
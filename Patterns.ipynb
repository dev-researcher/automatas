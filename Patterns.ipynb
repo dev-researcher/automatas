{
  "nbformat": 4,
  "nbformat_minor": 0,
  "metadata": {
    "colab": {
      "provenance": [],
      "include_colab_link": true
    },
    "kernelspec": {
      "name": "python3",
      "display_name": "Python 3"
    },
    "language_info": {
      "name": "python"
    }
  },
  "cells": [
    {
      "cell_type": "markdown",
      "metadata": {
        "id": "view-in-github",
        "colab_type": "text"
      },
      "source": [
        "<a href=\"https://colab.research.google.com/github/dev-researcher/automatas/blob/main/Patterns.ipynb\" target=\"_parent\"><img src=\"https://colab.research.google.com/assets/colab-badge.svg\" alt=\"Open In Colab\"/></a>"
      ]
    },
    {
      "cell_type": "code",
      "execution_count": null,
      "metadata": {
        "id": "nSi8SKu0cCfY"
      },
      "outputs": [],
      "source": [
        "import re"
      ]
    },
    {
      "cell_type": "markdown",
      "source": [
        "{ab, a}{ab, a}"
      ],
      "metadata": {
        "id": "GWTMVSTNcMAf"
      }
    },
    {
      "cell_type": "code",
      "source": [
        "pattern1 = r'^(ab|a)(ab|b)$'\n",
        "def inLanguaje(pattern, string):\n",
        "  if re.fullmatch(pattern, string):\n",
        "    return True\n",
        "  else: return False\n",
        "\n",
        "inLanguaje(pattern1, 'a')"
      ],
      "metadata": {
        "colab": {
          "base_uri": "https://localhost:8080/"
        },
        "id": "64PAyLnscULG",
        "outputId": "225f2ca9-eac6-4d77-ebbd-8776ec61ee3a"
      },
      "execution_count": null,
      "outputs": [
        {
          "output_type": "execute_result",
          "data": {
            "text/plain": [
              "False"
            ]
          },
          "metadata": {},
          "execution_count": 10
        }
      ]
    },
    {
      "cell_type": "markdown",
      "source": [
        "{a}*"
      ],
      "metadata": {
        "id": "KhWgrfO_f2H-"
      }
    },
    {
      "cell_type": "code",
      "source": [
        "pattern2 = r'^(a)*$'\n",
        "def inLanguaje(pattern, string):\n",
        "  if re.fullmatch(pattern, string):\n",
        "    return True\n",
        "  else: return False\n",
        "\n",
        "inLanguaje(pattern2, 'a')"
      ],
      "metadata": {
        "colab": {
          "base_uri": "https://localhost:8080/"
        },
        "id": "NMyhjJOGgaBE",
        "outputId": "80b22370-a7c7-4121-eb49-ca2e6ebf236f"
      },
      "execution_count": null,
      "outputs": [
        {
          "output_type": "execute_result",
          "data": {
            "text/plain": [
              "True"
            ]
          },
          "metadata": {},
          "execution_count": 11
        }
      ]
    },
    {
      "cell_type": "markdown",
      "source": [
        "{a, b}^3"
      ],
      "metadata": {
        "id": "KfxhwBXThTw0"
      }
    },
    {
      "cell_type": "code",
      "source": [
        "pattern3 = r'^[a, b]{3}$'\n",
        "def inLanguaje(pattern, string):\n",
        "  if re.fullmatch(pattern, string):\n",
        "    return True\n",
        "  else: return False\n",
        "\n",
        "inLanguaje(pattern3, 'aaa')"
      ],
      "metadata": {
        "id": "zcsqVo-whym4",
        "colab": {
          "base_uri": "https://localhost:8080/"
        },
        "outputId": "b2dcde62-852f-4851-ac4e-3197259f55cc"
      },
      "execution_count": null,
      "outputs": [
        {
          "output_type": "execute_result",
          "data": {
            "text/plain": [
              "True"
            ]
          },
          "metadata": {},
          "execution_count": 14
        }
      ]
    },
    {
      "cell_type": "markdown",
      "source": [
        "{a, b, ε}^2"
      ],
      "metadata": {
        "id": "XOoImOYYmNB6"
      }
    },
    {
      "cell_type": "code",
      "source": [
        "pattern4 = r'^[ab]{0,2}$'\n",
        "\n",
        "def inLanguage(pattern, string):\n",
        "    if re.fullmatch(pattern, string):\n",
        "        return True\n",
        "    else:\n",
        "        return False\n",
        "\n",
        "inLanguaje(pattern4, 'aa')"
      ],
      "metadata": {
        "colab": {
          "base_uri": "https://localhost:8080/"
        },
        "id": "zES0Kn2-mRQz",
        "outputId": "e9158e66-21f7-415f-a6b1-1f661be1662d"
      },
      "execution_count": null,
      "outputs": [
        {
          "output_type": "execute_result",
          "data": {
            "text/plain": [
              "True"
            ]
          },
          "metadata": {},
          "execution_count": 18
        }
      ]
    },
    {
      "cell_type": "markdown",
      "source": [
        "({a, b}{a, b})*  is the set of all words over Σ of even length."
      ],
      "metadata": {
        "id": "EK3lHnZDm_X7"
      }
    },
    {
      "cell_type": "code",
      "source": [
        "pattern5 = r'^([ab]{2})*$'\n",
        "\n",
        "def inLanguage(pattern, string):\n",
        "    if re.fullmatch(pattern, string):\n",
        "        return True\n",
        "    else:\n",
        "        return False\n",
        "\n",
        "inLanguaje(pattern5, 'aaa')"
      ],
      "metadata": {
        "colab": {
          "base_uri": "https://localhost:8080/"
        },
        "id": "Ow9_C1FIn4Hq",
        "outputId": "92e7f679-7111-40fb-f128-fc43bf8a2e1a"
      },
      "execution_count": null,
      "outputs": [
        {
          "output_type": "execute_result",
          "data": {
            "text/plain": [
              "False"
            ]
          },
          "metadata": {},
          "execution_count": 21
        }
      ]
    },
    {
      "cell_type": "markdown",
      "source": [
        "- - - - - -\n",
        "{a,b}{a,b}"
      ],
      "metadata": {
        "id": "Gu-ZQr5roqde"
      }
    },
    {
      "cell_type": "code",
      "source": [
        "pattern6 = r'^(?!^[ab]{2}$)[ab]*$'\n",
        "\n",
        "def inLanguage(pattern, string):\n",
        "    if re.fullmatch(pattern, string):\n",
        "        return True\n",
        "    else:\n",
        "        return False\n",
        "\n",
        "inLanguaje(pattern6, '')"
      ],
      "metadata": {
        "colab": {
          "base_uri": "https://localhost:8080/"
        },
        "id": "_5OtrfOdpjmt",
        "outputId": "6aa3b7e1-99eb-4d1b-f357-284acee6dbe5"
      },
      "execution_count": null,
      "outputs": [
        {
          "output_type": "execute_result",
          "data": {
            "text/plain": [
              "True"
            ]
          },
          "metadata": {},
          "execution_count": 27
        }
      ]
    },
    {
      "cell_type": "markdown",
      "source": [
        "{ϵ}∗"
      ],
      "metadata": {
        "id": "HNi0xoAyqIUz"
      }
    },
    {
      "cell_type": "code",
      "source": [
        "pattern7 = r'^$'\n",
        "\n",
        "def inLanguage(pattern, string):\n",
        "    if re.fullmatch(pattern, string):\n",
        "        return True\n",
        "    else:\n",
        "        return False\n",
        "\n",
        "inLanguaje(pattern7, '')"
      ],
      "metadata": {
        "colab": {
          "base_uri": "https://localhost:8080/"
        },
        "id": "fVQpeN7cqODX",
        "outputId": "decfd7c8-1652-424f-dec3-9fa2852f6b8e"
      },
      "execution_count": null,
      "outputs": [
        {
          "output_type": "execute_result",
          "data": {
            "text/plain": [
              "True"
            ]
          },
          "metadata": {},
          "execution_count": 26
        }
      ]
    },
    {
      "cell_type": "markdown",
      "source": [
        "∅∗ = {ε}. (Indeed, ∅^0 = {ε} by definition, and ∅^i = ∅ for every i ≥ 1.)"
      ],
      "metadata": {
        "id": "pYZUZPrGrKp2"
      }
    },
    {
      "cell_type": "code",
      "source": [
        "pattern8 = r'^([ab]{2})*$'\n",
        "\n",
        "def inLanguage(pattern, string):\n",
        "    return bool(re.fullmatch(pattern, string))\n",
        "\n",
        "inLanguaje(pattern8, '')"
      ],
      "metadata": {
        "colab": {
          "base_uri": "https://localhost:8080/"
        },
        "id": "35Sqh5OWrknh",
        "outputId": "7ac6cced-8d3f-4737-eb61-c82ec7259099"
      },
      "execution_count": null,
      "outputs": [
        {
          "output_type": "execute_result",
          "data": {
            "text/plain": [
              "True"
            ]
          },
          "metadata": {},
          "execution_count": 25
        }
      ]
    }
  ]
}
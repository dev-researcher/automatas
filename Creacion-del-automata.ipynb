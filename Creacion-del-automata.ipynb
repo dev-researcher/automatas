{
  "nbformat": 4,
  "nbformat_minor": 0,
  "metadata": {
    "colab": {
      "provenance": [],
      "include_colab_link": true
    },
    "kernelspec": {
      "name": "python3",
      "display_name": "Python 3"
    },
    "language_info": {
      "name": "python"
    }
  },
  "cells": [
    {
      "cell_type": "markdown",
      "metadata": {
        "id": "view-in-github",
        "colab_type": "text"
      },
      "source": [
        "<a href=\"https://colab.research.google.com/github/dev-researcher/automatas/blob/main/Creacion-del-automata.ipynb\" target=\"_parent\"><img src=\"https://colab.research.google.com/assets/colab-badge.svg\" alt=\"Open In Colab\"/></a>"
      ]
    },
    {
      "cell_type": "code",
      "source": [
        "class DFA:\n",
        "    def __init__(self, Q, Sigma, delta, q0, F):\n",
        "        self.Q = Q          # Conjunto de estados\n",
        "        self.Sigma = Sigma  # Alfabeto\n",
        "        self.delta = delta  # Función de transición\n",
        "        self.q0 = q0        # Estado inicial\n",
        "        self.F = F          # Conjunto de estados finales\n",
        "\n",
        "    def head(self, w):\n",
        "        \"\"\"Devuelve el primer símbolo de la palabra w.\"\"\"\n",
        "        return w[0] if w else None\n",
        "\n",
        "    def tail(self, w):\n",
        "        \"\"\"Devuelve la palabra w sin su primer símbolo.\"\"\"\n",
        "        return w[1:] if w else \"\"\n",
        "\n",
        "    def MemDFA(self, w, q):\n",
        "        if w == \"\":\n",
        "            return q in self.F\n",
        "        else:\n",
        "            a = self.head(w)        # Usando head(w)\n",
        "            w_tail = self.tail(w)   # Usando tail(w)\n",
        "            q_next = self.delta[q][a]\n",
        "            return self.MemDFA(w_tail, q_next)\n",
        "\n",
        "    def CompDFA(self):\n",
        "        # Paso 1: Inicializar Q', δ', q0' y F'\n",
        "        Q_prime = self.Q\n",
        "        delta_prime = self.delta\n",
        "        q0_prime = self.q0\n",
        "        F_prime = set()  # Inicialmente vacío\n",
        "\n",
        "        # Paso 2: Completar F'\n",
        "        for q in self.Q:\n",
        "            if q not in self.F:\n",
        "                F_prime.add(q)\n",
        "\n",
        "        # Retornar el nuevo DFA complementado\n",
        "        return DFA(Q_prime, self.Sigma, delta_prime, q0_prime, F_prime)\n"
      ],
      "metadata": {
        "id": "6xTtEgH4iy3x"
      },
      "execution_count": null,
      "outputs": []
    },
    {
      "cell_type": "code",
      "source": [
        "#Ejemplo 1.8 del libro\n",
        "Q = {'q0', 'q1', 'q2', 'q3'}\n",
        "Sigma = {'a', 'b'}\n",
        "delta = {\n",
        "    'q0': {'a': 'q1', 'b': 'q3'},\n",
        "    'q1': {'a': 'q0', 'b': 'q2'},\n",
        "    'q2': {'a': 'q3', 'b': 'q1'},\n",
        "    'q3': {'a': 'q2', 'b': 'q0'}\n",
        "}\n",
        "\n",
        "q0 = 'q0'\n",
        "F = {'q0'}\n",
        "\n",
        "# Creación del autómata\n",
        "automaton = DFA(Q, Sigma, delta, q0, F)\n",
        "\n",
        "# Ejemplos de uso\n",
        "input_string = \"aabb\"\n",
        "print(f\"La cadena '{input_string}' es aceptada: {automaton.MemDFA(input_string,q0)}\")\n",
        "\n",
        "input_string = \"abbb\"\n",
        "print(f\"La cadena '{input_string}' es aceptada: {automaton.MemDFA(input_string,q0)}\")"
      ],
      "metadata": {
        "colab": {
          "base_uri": "https://localhost:8080/"
        },
        "id": "I9it7AmVOHdo",
        "outputId": "413102a7-2550-4629-de71-bc34abde2197"
      },
      "execution_count": null,
      "outputs": [
        {
          "output_type": "stream",
          "name": "stdout",
          "text": [
            "La cadena 'aabb' es aceptada: True\n",
            "La cadena 'abbb' es aceptada: False\n"
          ]
        }
      ]
    },
    {
      "cell_type": "code",
      "source": [],
      "metadata": {
        "id": "sQdvt8j4jX5_"
      },
      "execution_count": null,
      "outputs": []
    }
  ]
}
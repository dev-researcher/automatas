{
  "cells": [
    {
      "cell_type": "markdown",
      "metadata": {
        "id": "view-in-github",
        "colab_type": "text"
      },
      "source": [
        "<a href=\"https://colab.research.google.com/github/dev-researcher/automatas/blob/main/Tarea_1.ipynb\" target=\"_parent\"><img src=\"https://colab.research.google.com/assets/colab-badge.svg\" alt=\"Open In Colab\"/></a>"
      ]
    },
    {
      "cell_type": "markdown",
      "metadata": {
        "id": "QOisiZS523HL"
      },
      "source": [
        "# Tarea 1 (2024)\n",
        "Profesor: Tomás de Camino Beck, Ph.D.\n"
      ]
    },
    {
      "cell_type": "markdown",
      "metadata": {
        "id": "Xd2t5Bj_2tGF"
      },
      "source": [
        "---\n",
        "\n",
        "### Instrucciones Generales\n",
        "\n",
        "- **Entrega**: *3 de Septiembre* antes de media noche. La tarea debe ser enviada por un miembro del equipo\n",
        "-**Lectura**:  Gran parte de los problemas se basan en el capítulo 4 del libro, apoyado en los capítulos anteriores. Puede que tenga que revisar secciones no vistas en clase.\n",
        "\n",
        "- **Formato de Entrega:** Los problemas deben ser entregados como un archivo Jupyter Notebook (.ipynb) de Google Colab que incluya todas las soluciones, explicaciones, ejemplos y pruebas solicitadas. Enviar al email del profesor.\n",
        "- **Estructura del Informe:**\n",
        "  - **Equipo:** Indicar nombre completo e identificación de cada miebro\n",
        "  - **Introducción:** Breve introducción a cada problema, explicando el enfoque general.\n",
        "  - **Código:** Cada problema debe incluir el código bien comentado.\n",
        "  - **Ejemplos:** Deben incluirse ejemplos de uso del código con entradas específicas y resultados esperados.\n",
        "  - **Pruebas:** Incluir casos de prueba que demuestren la funcionalidad del código, con explicaciones de los resultados.\n",
        "  - **Conclusión:** Breve conclusión sobre cada problema, discutiendo cualquier desafío encontrado y cómo fue resuelto."
      ]
    },
    {
      "cell_type": "markdown",
      "metadata": {
        "id": "pGF8yGzSecms"
      },
      "source": [
        "## Equipo\n",
        "\n",
        "- Brian Morera Madriz TBD\n",
        "- Elena Portuguez Mora 702170005\n",
        "- Bryhan Rodríguez Mora 115420325"
      ]
    },
    {
      "cell_type": "markdown",
      "metadata": {
        "id": "ONDo2wLZuAS3"
      },
      "source": [
        "## Base Source Code and utilities"
      ]
    },
    {
      "cell_type": "markdown",
      "metadata": {
        "id": "_QKkDMnGecms"
      },
      "source": [
        "### Constants"
      ]
    },
    {
      "cell_type": "code",
      "execution_count": null,
      "metadata": {
        "id": "UNxymODtecms"
      },
      "outputs": [],
      "source": [
        "EPSILON = 'ε'"
      ]
    },
    {
      "cell_type": "markdown",
      "metadata": {
        "id": "VNZl-rWmecmt"
      },
      "source": [
        "## Imports"
      ]
    },
    {
      "cell_type": "code",
      "execution_count": null,
      "metadata": {
        "id": "l5fVI5CGecmt"
      },
      "outputs": [],
      "source": [
        "import ipytest\n",
        "ipytest.autoconfig()"
      ]
    },
    {
      "cell_type": "markdown",
      "metadata": {
        "id": "QHsb9Gktecmu"
      },
      "source": [
        "## Automata Definition"
      ]
    },
    {
      "cell_type": "code",
      "execution_count": null,
      "metadata": {
        "id": "FpbsBuk-ecmu"
      },
      "outputs": [],
      "source": [
        "class Automata:\n",
        "    def __init__(self, states, alphabet, transitions, start_state, final_states) -> None:\n",
        "        \"\"\"\n",
        "        Constructor de NFA\n",
        "        Args:\n",
        "            states (list<str>): Lista de todos los estados\n",
        "            alphabet (list<str>): Lista de las letras del alfabeto\n",
        "            transitions (dict): Funcion de transicion\n",
        "            start_state (str): Estado inicial\n",
        "            final_states (list<str>): Lista de los estados finales\n",
        "        Returns:\n",
        "            None\n",
        "        \"\"\"\n",
        "        self.states = states\n",
        "        self.alphabet = alphabet\n",
        "        self.transitions = transitions\n",
        "        self.start_state = start_state\n",
        "        self.final_states = final_states\n",
        "\n",
        "\n",
        "    def __str__(self):\n",
        "        \"\"\"\n",
        "        Imprime los estados y transiciones de los estados\n",
        "        \"\"\"\n",
        "        transitions_str = '\\n'.join(\n",
        "            [f\"{state} --{symbol}--> {', '.join(next_states)}\"\n",
        "             for state, paths in self.transitions.items()\n",
        "             for symbol, next_states in paths.items()]\n",
        "        )\n",
        "        return (\n",
        "            f\"=====================================\\n\"\n",
        "            f\"States: {self.states}\\n\"\n",
        "            f\"Alphabet: {self.alphabet}\\n\"\n",
        "            f\"Transitions:\\n{transitions_str}\\n\"\n",
        "            f\"Start State: {self.start_state}\\n\"\n",
        "            f\"Final States: {self.final_states}\\n\"\n",
        "            f\"=====================================\\n\"\n",
        "        )"
      ]
    },
    {
      "cell_type": "markdown",
      "metadata": {
        "id": "Y7SsjDj0uaR7"
      },
      "source": [
        "## DFA\n",
        "\n",
        "En caso de que necesitemos una clase DFA"
      ]
    },
    {
      "cell_type": "code",
      "execution_count": null,
      "metadata": {
        "id": "lJnrrmsuuF03"
      },
      "outputs": [],
      "source": [
        "class DFA(Automata):\n",
        "    def __init__(self, states, alphabet, transitions, start_state, final_states, name='') -> None:\n",
        "        super().__init__(states, alphabet, transitions, start_state, final_states)\n",
        "        self.name = name\n",
        "\n",
        "\n",
        "    def __str__(self):\n",
        "        \"\"\"\n",
        "        Imprime los estados y transiciones de los estados\n",
        "        \"\"\"\n",
        "\n",
        "        return (\n",
        "            f\"\\n=====================================\\n\"\n",
        "            f\"DFA: {self.name}\\n\" +\n",
        "            super().__str__()\n",
        "        )\n",
        "\n"
      ]
    },
    {
      "cell_type": "markdown",
      "metadata": {
        "id": "ftNKMRWWecmu"
      },
      "source": [
        "## NFA\n",
        "\n",
        "Considerando una clase simple NFA, la cual es capaz de imprimir los estados y las transacciones de una manera comprensiva."
      ]
    },
    {
      "cell_type": "code",
      "execution_count": null,
      "metadata": {
        "id": "Y1RKkOL3ecmv"
      },
      "outputs": [],
      "source": [
        "class NFA(Automata):\n",
        "    def __init__(self, states, alphabet, transitions, start_state, final_states, name='') -> None:\n",
        "        super().__init__(states, alphabet, transitions, start_state, final_states)\n",
        "        self.name = name\n",
        "\n",
        "    def get_states_from_transitions(self) -> int:\n",
        "        target_states = set()\n",
        "        for keyL1 in self.transitions.keys():\n",
        "            for keyL2 in self.transitions[keyL1].keys():\n",
        "                targets = self.transitions[keyL1][keyL2]\n",
        "                target_states = target_states.union(targets)\n",
        "        return len(target_states) + 1 # initial state\n",
        "\n",
        "    def __str__(self):\n",
        "        \"\"\"\n",
        "        Imprime los estados y transiciones de los estados\n",
        "        \"\"\"\n",
        "        return (\n",
        "            f\"\\n=====================================\\n\"\n",
        "            f\"NFA: {self.name}\\n\" +\n",
        "            super().__str__()\n",
        "        )\n",
        "\n",
        "    def replace_state(self, old_value, new_value):\n",
        "        if self.start_state == old_value:\n",
        "            self.start_state = new_value\n",
        "\n",
        "        if old_value in self.final_states:\n",
        "            self.final_states = set(map(lambda x: x.replace(old_value, new_value), list(self.final_states)))\n",
        "\n",
        "        if old_value in self.states:\n",
        "            self.states = set(map(lambda x: x.replace(old_value, new_value), list(self.states)))\n",
        "\n",
        "        key_l1 = self.transitions.keys()\n",
        "        if old_value in key_l1:\n",
        "            self.transitions[new_value] = self.transitions[old_value]\n",
        "            del self.transitions[old_value]\n",
        "\n",
        "        key_l1 = self.transitions.keys()\n",
        "        for keyl1 in key_l1:\n",
        "            for keyl2 in self.transitions[keyl1].keys():\n",
        "                if old_value in self.transitions[keyl1][keyl2]:\n",
        "                    self.transitions[keyl1][keyl2] = set(map(lambda x: x.replace(old_value, new_value), list(self.transitions[keyl1][keyl2])))\n"
      ]
    },
    {
      "cell_type": "markdown",
      "metadata": {
        "id": "7ClY3W5-uLmS"
      },
      "source": [
        "## Solución"
      ]
    },
    {
      "cell_type": "markdown",
      "metadata": {
        "id": "mXNWiQlqr0wK"
      },
      "source": [
        "---\n",
        "\n",
        "#### **Problema 1: Construcción e Implementación de `RegtoNFA` con Expresiones Regulares Avanzadas**\n",
        "- **Descripción:**\n",
        "  - Implementa en Python el algoritmo `RegtoNFA` que convierte una expresión regular avanzada, que incluye operadores como repetición variable $\\{m,n\\}$, en un NFA (Autómata Finito No Determinista). Este NFA debe ser capaz de reconocer si algún prefijo de un texto dado pertenece al lenguaje $L(\\Sigma^*p)$."
      ]
    },
    {
      "cell_type": "markdown",
      "metadata": {
        "id": "kFQrQTpPecmv"
      },
      "source": [
        "El siguiente codigo fue generado con ayuda de Chat-GPT. Sin embargo, revisando el mismo se encontraron 1 mejora y 2 bug en la codificacion generada.\n",
        "\n",
        "##### Mejoras\n",
        "- Incialmente el codigo representaba las transiciones epsilon con un simbolo vacio, por lo que se edito para la utilizacion del simbolo `ε`.\n",
        "\n",
        "##### Errores de codigo\n",
        "- En el caso de los regex de concatenacion de simbolos del del alfabeto, por ejemplo para el regex `ab`, donde el alfabeto es {'a', 'b'}, el NFA resultante indicaba que su lenguage consistia unicamente de `a`. Despues de una validacion se logra concluir que para las concatenaciones solo tomaba el primer simbolo, aunque las transiciones si consideraba el alfabeto completo.\n",
        "-  En el caso del regex vacio, con regex='', el NFA no indicaba la transicion epsilon entre el estado incial y final."
      ]
    },
    {
      "cell_type": "code",
      "execution_count": null,
      "metadata": {
        "id": "jX7RgD6Qs9S7"
      },
      "outputs": [],
      "source": [
        "class RegToNFA:\n",
        "    def __init__(self):\n",
        "        self.state_count = 0\n",
        "\n",
        "    def _new_state(self):\n",
        "        self.state_count += 1\n",
        "        return f\"S{self.state_count}\"\n",
        "\n",
        "    def regex_to_nfa(self, regex, name=''):\n",
        "        self.name = name\n",
        "        return self._regex_to_nfa_helper(regex)\n",
        "\n",
        "    def _regex_to_nfa_helper(self, regex):\n",
        "        if not len(regex):\n",
        "            return self._empty_nfa()\n",
        "        elif len(regex) == 1:\n",
        "            return self._single_char_nfa(regex)\n",
        "        elif '|' in regex:\n",
        "            return self._union_nfa(regex)\n",
        "        elif '*' in regex:\n",
        "            return self._kleene_star_nfa(regex)\n",
        "        else:\n",
        "            return self._concat_nfa(regex)\n",
        "\n",
        "    def _empty_nfa(self):\n",
        "        start_state = self._new_state()\n",
        "        final_state = self._new_state()\n",
        "        return NFA(\n",
        "            states={start_state, final_state},\n",
        "            alphabet=set(),\n",
        "            start_state=start_state,\n",
        "            final_states={final_state},\n",
        "            name=self.name,\n",
        "            transitions = {\n",
        "                start_state: {EPSILON: {final_state}}\n",
        "            }\n",
        "        )\n",
        "\n",
        "    def _single_char_nfa(self, char):\n",
        "        start_state = self._new_state()\n",
        "        final_state = self._new_state()\n",
        "        transitions = {start_state: {char: {final_state}}}\n",
        "        return NFA(\n",
        "            states={start_state, final_state},\n",
        "            alphabet={char},\n",
        "            transitions=transitions,\n",
        "            start_state=start_state,\n",
        "            final_states={final_state},\n",
        "            name=self.name\n",
        "        )\n",
        "\n",
        "    def _concat_nfa(self, regex):\n",
        "        new_state = self._new_state()\n",
        "        first_nfa = self._regex_to_nfa_helper(regex[0])\n",
        "        rest_nfa = self._regex_to_nfa_helper(regex[1:])\n",
        "\n",
        "        rest_nfa.replace_state(rest_nfa.start_state, new_state)\n",
        "        for state in first_nfa.final_states:\n",
        "            first_nfa.replace_state(state, new_state)\n",
        "\n",
        "        new_state = self._new_state()\n",
        "        first_nfa.states.update(rest_nfa.states)\n",
        "        first_nfa.transitions.update(rest_nfa.transitions)\n",
        "        first_nfa.final_states = rest_nfa.final_states\n",
        "        first_nfa.alphabet.update(rest_nfa.alphabet)\n",
        "\n",
        "        return first_nfa\n",
        "\n",
        "    def _union_nfa(self, regex):\n",
        "        parts = regex.split('|')\n",
        "        nfa1 = self._regex_to_nfa_helper(parts[0])\n",
        "        nfa2 = self._regex_to_nfa_helper(parts[1])\n",
        "\n",
        "        start_state = self._new_state()\n",
        "        final_state = self._new_state()\n",
        "\n",
        "        transitions = {\n",
        "            start_state: {EPSILON: {nfa1.start_state, nfa2.start_state}},\n",
        "            **nfa1.transitions,\n",
        "            **nfa2.transitions,\n",
        "            nfa1.final_states.pop(): {EPSILON: {final_state}},\n",
        "            nfa2.final_states.pop(): {EPSILON: {final_state}},\n",
        "        }\n",
        "\n",
        "        states = {start_state, final_state, *nfa1.states, *nfa2.states}\n",
        "        alphabet = nfa1.alphabet.union(nfa2.alphabet)\n",
        "\n",
        "        return NFA(\n",
        "            states=states,\n",
        "            alphabet=alphabet,\n",
        "            transitions=transitions,\n",
        "            start_state=start_state,\n",
        "            final_states={final_state},\n",
        "            name=self.name\n",
        "        )\n",
        "\n",
        "    def _kleene_star_nfa(self, regex):\n",
        "        inner_regex = regex.replace('*', '')\n",
        "        inner_nfa = self._regex_to_nfa_helper(inner_regex)\n",
        "\n",
        "        start_state = self._new_state()\n",
        "        final_state = self._new_state()\n",
        "\n",
        "        transitions = {\n",
        "            start_state: {EPSILON: {inner_nfa.start_state, final_state}},\n",
        "            inner_nfa.final_states.pop(): {EPSILON: {inner_nfa.start_state, final_state}},\n",
        "            **inner_nfa.transitions\n",
        "        }\n",
        "\n",
        "        states = {start_state, final_state, *inner_nfa.states}\n",
        "        alphabet = inner_nfa.alphabet\n",
        "\n",
        "        return NFA(\n",
        "            states=states,\n",
        "            alphabet=alphabet,\n",
        "            transitions=transitions,\n",
        "            start_state=start_state,\n",
        "            final_states={final_state},\n",
        "            name=self.name\n",
        "        )"
      ]
    },
    {
      "cell_type": "markdown",
      "metadata": {
        "id": "MtRCG7k8ecmw"
      },
      "source": [
        "##### Casos de usos:"
      ]
    },
    {
      "cell_type": "code",
      "execution_count": null,
      "metadata": {
        "id": "aOoiWodUecmw"
      },
      "outputs": [],
      "source": [
        "converter = RegToNFA()"
      ]
    },
    {
      "cell_type": "markdown",
      "metadata": {
        "id": "Ikhsuab4ecmw"
      },
      "source": [
        "![image.png](attachment:image.png)"
      ]
    },
    {
      "cell_type": "code",
      "execution_count": null,
      "metadata": {
        "id": "4kNRvHdQecmx",
        "outputId": "5ff134fd-8fae-4819-f0d0-75c2c80e8c9e"
      },
      "outputs": [
        {
          "name": "stdout",
          "output_type": "stream",
          "text": [
            "\n",
            "=====================================\n",
            "NFA: Vacio\n",
            "=====================================\n",
            "States: {'S1', 'S2'}\n",
            "Alphabet: set()\n",
            "Transitions:\n",
            "S1 --ε--> S2\n",
            "Start State: S1\n",
            "Final States: {'S2'}\n",
            "=====================================\n",
            "\n",
            "=====================================\n",
            "\n"
          ]
        }
      ],
      "source": [
        "nfa = converter.regex_to_nfa('', 'Vacio')\n",
        "print(nfa)"
      ]
    },
    {
      "cell_type": "markdown",
      "metadata": {
        "id": "zIS-w_sXecmx"
      },
      "source": [
        "![image.png](attachment:image.png)"
      ]
    },
    {
      "cell_type": "code",
      "execution_count": null,
      "metadata": {
        "id": "1LPCKNL2ecmx",
        "outputId": "98bd76fb-1dee-47bb-b8e7-e16f0e565408"
      },
      "outputs": [
        {
          "name": "stdout",
          "output_type": "stream",
          "text": [
            "\n",
            "=====================================\n",
            "NFA: 1 letras\n",
            "=====================================\n",
            "States: {'S4', 'S3'}\n",
            "Alphabet: {'a'}\n",
            "Transitions:\n",
            "S3 --a--> S4\n",
            "Start State: S3\n",
            "Final States: {'S4'}\n",
            "=====================================\n",
            "\n",
            "=====================================\n",
            "\n"
          ]
        }
      ],
      "source": [
        "nfa = converter.regex_to_nfa('a', '1 letras')\n",
        "print(nfa)"
      ]
    },
    {
      "cell_type": "markdown",
      "metadata": {
        "id": "XkmfmvEOecmy"
      },
      "source": [
        "![image.png](attachment:image.png)"
      ]
    },
    {
      "cell_type": "code",
      "execution_count": null,
      "metadata": {
        "id": "nmv6xDl2ecmy",
        "outputId": "bd31b2f2-7a34-41ea-9d7f-b92a4d80b048"
      },
      "outputs": [
        {
          "name": "stdout",
          "output_type": "stream",
          "text": [
            "\n",
            "=====================================\n",
            "NFA: Condicion or\n",
            "=====================================\n",
            "States: {'S5', 'S9', 'S10', 'S7', 'S6', 'S8'}\n",
            "Alphabet: {'a', 'b'}\n",
            "Transitions:\n",
            "S9 --ε--> S7, S5\n",
            "S5 --a--> S6\n",
            "S7 --b--> S8\n",
            "S6 --ε--> S10\n",
            "S8 --ε--> S10\n",
            "Start State: S9\n",
            "Final States: {'S10'}\n",
            "=====================================\n",
            "\n",
            "=====================================\n",
            "\n"
          ]
        }
      ],
      "source": [
        "nfa = converter.regex_to_nfa('a|b', 'Condicion or')\n",
        "print(nfa)"
      ]
    },
    {
      "cell_type": "markdown",
      "metadata": {
        "id": "5dxrv-oBecmy"
      },
      "source": [
        "![image.png](attachment:image.png)"
      ]
    },
    {
      "cell_type": "code",
      "execution_count": null,
      "metadata": {
        "id": "xEjrUks7ecmy",
        "outputId": "a1cfe74e-46d4-4c62-fb6d-604e7d89aa5a"
      },
      "outputs": [
        {
          "name": "stdout",
          "output_type": "stream",
          "text": [
            "\n",
            "=====================================\n",
            "NFA: 2 letras\n",
            "=====================================\n",
            "States: {'S12', 'S15', 'S11'}\n",
            "Alphabet: {'a', 'b'}\n",
            "Transitions:\n",
            "S12 --a--> S11\n",
            "S11 --b--> S15\n",
            "Start State: S12\n",
            "Final States: {'S15'}\n",
            "=====================================\n",
            "\n",
            "=====================================\n",
            "\n"
          ]
        }
      ],
      "source": [
        "nfa = converter.regex_to_nfa('ab', '2 letras')\n",
        "print(nfa)"
      ]
    },
    {
      "cell_type": "markdown",
      "metadata": {
        "id": "raaWq0ytecmy"
      },
      "source": [
        "![image.png](attachment:image.png)"
      ]
    },
    {
      "cell_type": "code",
      "execution_count": null,
      "metadata": {
        "id": "MyKGwrRMecmy",
        "outputId": "f285ac18-e2da-40ce-c749-e08b70655c4e"
      },
      "outputs": [
        {
          "name": "stdout",
          "output_type": "stream",
          "text": [
            "\n",
            "=====================================\n",
            "NFA: Al menos 1 a\n",
            "=====================================\n",
            "States: {'S18', 'S17', 'S20', 'S19'}\n",
            "Alphabet: {'a'}\n",
            "Transitions:\n",
            "S19 --ε--> S17, S20\n",
            "S18 --ε--> S17, S20\n",
            "S17 --a--> S18\n",
            "Start State: S19\n",
            "Final States: {'S20'}\n",
            "=====================================\n",
            "\n",
            "=====================================\n",
            "\n"
          ]
        },
        {
          "data": {
            "text/plain": [
              "4"
            ]
          },
          "execution_count": 97,
          "metadata": {},
          "output_type": "execute_result"
        }
      ],
      "source": [
        "nfa = converter.regex_to_nfa('a*', 'Al menos 1 a')\n",
        "print(nfa)\n",
        "nfa.get_states_from_transitions()"
      ]
    },
    {
      "cell_type": "markdown",
      "metadata": {
        "id": "8X__P56recmy"
      },
      "source": [
        "##### Pruebas unitarias:"
      ]
    },
    {
      "cell_type": "markdown",
      "metadata": {
        "id": "zFCvpxLTecmy"
      },
      "source": [
        "Para las validaciones se utiliza unit test y los casos previamente mostrados, los cuales se toman de este [link](https://www.tutorialspoint.com/what-is-the-conversion-of-a-regular-expression-to-finite-automata-nfa)"
      ]
    },
    {
      "cell_type": "code",
      "execution_count": null,
      "metadata": {
        "id": "IlV8Jutrecmz",
        "outputId": "9cbc7b4a-734b-4268-ffd4-08b22dc85694"
      },
      "outputs": [
        {
          "name": "stdout",
          "output_type": "stream",
          "text": [
            "\u001b[1m======================================= test session starts =======================================\u001b[0m\n",
            "platform win32 -- Python 3.11.9, pytest-8.3.2, pluggy-1.5.0 -- C:\\Users\\MSI\\AppData\\Local\\Microsoft\\WindowsApps\\PythonSoftwareFoundation.Python.3.11_qbz5n2kfra8p0\\python.exe\n",
            "cachedir: .pytest_cache\n",
            "rootdir: c:\\Users\\MSI\\OneDrive\\Escritorio\\Maestria\\Automatas\\AutomataTheory\n",
            "plugins: anyio-3.6.2\n",
            "\u001b[1mcollecting ... \u001b[0mcollected 6 items\n",
            "\n",
            "t_6ad0b5008c3e4200919b61b1d4b105da.py::test_emptyRegex \u001b[32mPASSED\u001b[0m\u001b[32m                                [ 16%]\u001b[0m\n",
            "t_6ad0b5008c3e4200919b61b1d4b105da.py::test_1varRegex \u001b[32mPASSED\u001b[0m\u001b[32m                                 [ 33%]\u001b[0m\n",
            "t_6ad0b5008c3e4200919b61b1d4b105da.py::test_orRegex \u001b[32mPASSED\u001b[0m\u001b[32m                                   [ 50%]\u001b[0m\n",
            "t_6ad0b5008c3e4200919b61b1d4b105da.py::test_concatRegex \u001b[32mPASSED\u001b[0m\u001b[32m                               [ 66%]\u001b[0m\n",
            "t_6ad0b5008c3e4200919b61b1d4b105da.py::test_atLeast1aRegex \u001b[32mPASSED\u001b[0m\u001b[32m                            [ 83%]\u001b[0m\n",
            "t_6ad0b5008c3e4200919b61b1d4b105da.py::test_epsilon_removal \u001b[32mPASSED\u001b[0m\u001b[32m                           [100%]\u001b[0m\n",
            "\n",
            "\u001b[32m======================================== \u001b[32m\u001b[1m6 passed\u001b[0m\u001b[32m in 0.06s\u001b[0m\u001b[32m ========================================\u001b[0m\n"
          ]
        },
        {
          "data": {
            "text/plain": [
              "<ExitCode.OK: 0>"
            ]
          },
          "execution_count": 98,
          "metadata": {},
          "output_type": "execute_result"
        }
      ],
      "source": [
        "def test_emptyRegex():\n",
        "    converter = RegToNFA()\n",
        "    nfa = converter.regex_to_nfa('')\n",
        "    assert 2 == len(nfa.states)\n",
        "    assert 2 == nfa.get_states_from_transitions()\n",
        "\n",
        "def test_1varRegex():\n",
        "    converter = RegToNFA()\n",
        "    nfa = converter.regex_to_nfa('a')\n",
        "    assert 2 == len(nfa.states)\n",
        "    assert 2 == nfa.get_states_from_transitions()\n",
        "\n",
        "def test_orRegex():\n",
        "    converter = RegToNFA()\n",
        "    nfa = converter.regex_to_nfa('a|b')\n",
        "    assert 6 == len(nfa.states)\n",
        "    assert 6 == nfa.get_states_from_transitions()\n",
        "\n",
        "def test_concatRegex():\n",
        "    converter = RegToNFA()\n",
        "    nfa = converter.regex_to_nfa('ab')\n",
        "    assert 3 == len(nfa.states)\n",
        "    assert 3 == nfa.get_states_from_transitions()\n",
        "\n",
        "def test_atLeast1aRegex():\n",
        "    converter = RegToNFA()\n",
        "    nfa = converter.regex_to_nfa('a*')\n",
        "    assert 4 == len(nfa.states)\n",
        "    assert 4 == nfa.get_states_from_transitions()\n",
        "\n",
        "ipytest.run('-vv')"
      ]
    },
    {
      "cell_type": "markdown",
      "metadata": {
        "id": "-LPlBUTus7fR"
      },
      "source": [
        "- **Parte 2:** **Desafío Adicional:** Extiende el NFA para manejar operaciones de intersección y unión en la expresión regular. Justifica cada paso de la construcción y proporciona ejemplos complejos que no solo contengan concatenación y cierre de Kleene, sino también intersección y unión."
      ]
    },
    {
      "cell_type": "code",
      "execution_count": null,
      "metadata": {
        "id": "4XopAIEJryfb",
        "outputId": "0cbcd7fc-f5b2-458c-aa19-2b53bbfa4252"
      },
      "outputs": [
        {
          "name": "stdout",
          "output_type": "stream",
          "text": [
            "\n",
            "=====================================\n",
            "NFA: \n",
            "=====================================\n",
            "States: {'S5', 'S1', 'S2', 'S4', 'S3', 'S6'}\n",
            "Alphabet: {'a', 'b'}\n",
            "Transitions:\n",
            "S5 --ε--> S3, S1\n",
            "S1 --a--> S2\n",
            "S3 --b--> S4\n",
            "S2 --ε--> S6\n",
            "S4 --ε--> S6\n",
            "Start State: S5\n",
            "Final States: {'S6'}\n",
            "=====================================\n",
            "\n",
            "=====================================\n",
            "\n"
          ]
        }
      ],
      "source": [
        "converter = RegToNFA()\n",
        "nfa = converter.regex_to_nfa('a|b')\n",
        "print(nfa)"
      ]
    },
    {
      "cell_type": "markdown",
      "metadata": {
        "id": "UVfB2uj8tBQq"
      },
      "source": [
        "\n",
        "#### **Problema 2: Optimización de NFA mediante Eliminación de Transiciones $\\varepsilon$ y Minimización**\n",
        "- **Descripción:**\n",
        "  - Utiliza el NFA construido en el Problema 1, elimina las transiciones $\\varepsilon$ y luego aplica técnicas de minimización para reducir el número de estados manteniendo la equivalencia del autómata."
      ]
    },
    {
      "cell_type": "markdown",
      "metadata": {
        "id": "wgTiG5EEecmz"
      },
      "source": [
        "##### 2.1 Introducción\n",
        "\n",
        "\n",
        "La optimización de autómatas finitos no deterministas (NFA, por sus siglas en inglés) es un área fundamental en la teoría de autómatas y lenguajes formales, con aplicaciones directas en el diseño de compiladores, análisis sintáctico y otros campos de la informática teórica. Un aspecto crucial de esta optimización radica en la capacidad de reducir la complejidad del autómata sin alterar el lenguaje que reconoce, es decir, sin perder su equivalencia semántica.\n",
        "\n",
        "Una de las técnicas más efectivas para optimizar un NFA es la **eliminación de transiciones \\(\\varepsilon\\)**. Las transiciones \\(\\varepsilon\\) son aquellas que permiten al autómata cambiar de estado sin consumir ningún símbolo de entrada. Aunque estas transiciones ofrecen flexibilidad durante la construcción del autómata, también introducen una complejidad adicional, tanto en términos de análisis como de procesamiento. Por ello, eliminar estas transiciones resulta en un autómata más simple y eficiente, lo que facilita su posterior análisis y optimización.\n",
        "\n",
        "Tras la eliminación de las transiciones \\(\\varepsilon\\), se procede a la **minimización del NFA**. Este proceso implica la identificación y combinación de estados equivalentes, es decir, aquellos que, para cualquier cadena de entrada, conducen al autómata a un comportamiento indistinguible. El objetivo final es reducir el número de estados del autómata al mínimo necesario, manteniendo la equivalencia del lenguaje reconocido.\n",
        "\n",
        "Este enfoque de optimización no solo mejora la eficiencia del autómata resultante, sino que también es crucial para aplicaciones prácticas, donde la simplicidad del autómata puede traducirse en mejoras significativas en la velocidad de procesamiento y la utilización de recursos. La combinación de estas dos técnicas —eliminación de transiciones \\(\\varepsilon\\) y minimización— representa un enfoque robusto y científicamente fundamentado para la optimización de NFAs, manteniendo intacta la semántica del autómata original.\n",
        "\n",
        "\n",
        "Existen varias tecnicas para la minimizacion de NFA:\n",
        "\n",
        "- Eliminación de Transiciones \\(\\varepsilon\\)\n",
        "- Eliminación de Estados Inalcanzables\n",
        "- Eliminación de Estados Muertos\n",
        "- Determinización Parcial\n",
        "- Fusión de Estados Equivalentes\n"
      ]
    },
    {
      "cell_type": "markdown",
      "metadata": {
        "id": "nwZdSqtqecmz"
      },
      "source": [
        "##### 2.2 Código"
      ]
    },
    {
      "cell_type": "code",
      "execution_count": null,
      "metadata": {
        "id": "vaFBZgh1tXKH"
      },
      "outputs": [],
      "source": [
        "class NFAOptimizer:\n",
        "\n",
        "    def __init__(self) -> None:\n",
        "        pass\n",
        "\n",
        "    def _epsilon_closure_(self, nfa, state):\n",
        "        \"\"\" Compute the epsilon closure of a state. \"\"\"\n",
        "        closure = {state}\n",
        "        if EPSILON in nfa.transitions.get(state, {}):\n",
        "            for next_state in nfa.transitions[state][EPSILON]:\n",
        "                closure |= self._epsilon_closure_(nfa, next_state)\n",
        "        return closure\n",
        "\n",
        "    def remove_epsilon_transitions(self, nfa):\n",
        "        \"\"\" Remove epsilon transitions using epsilon closure. \"\"\"\n",
        "        new_transitions = {}\n",
        "        for state in nfa.states:\n",
        "            new_transitions[state] = {}\n",
        "            for symbol in nfa.alphabet:\n",
        "                reachable = set(self._epsilon_closure_(nfa, state))\n",
        "                for s in reachable:\n",
        "                    if symbol in nfa.transitions.get(s, {}):\n",
        "                        new_transitions[state][symbol] = new_transitions[state].get(symbol, set()) | nfa.transitions[s][symbol]\n",
        "        return NFA(\n",
        "            states=nfa.states,\n",
        "            alphabet=nfa.alphabet,\n",
        "            transitions=new_transitions,\n",
        "            start_state=nfa.start_state,\n",
        "            final_states=nfa.final_states,\n",
        "            name=nfa.name\n",
        "        )\n",
        "\n",
        "    def eliminar_estados_inalcanzables(self, nfa):\n",
        "        unreachables = set()\n",
        "        por_visitar = {nfa.start_state}\n",
        "\n",
        "        while por_visitar:\n",
        "            estado_actual = por_visitar.pop()\n",
        "            unreachables.add(estado_actual)\n",
        "\n",
        "            for symbol in nfa.alphabet:\n",
        "                if symbol in nfa.transitions.get(estado_actual, {}):\n",
        "                    por_visitar.update(nfa.transitions[estado_actual][symbol])\n",
        "\n",
        "        # Filtrar estados y transiciones\n",
        "        new_states = [estado for estado in nfa.states if estado in unreachables]\n",
        "        new_transitions = {state: trans for state, trans in nfa.transitions.items() if state in unreachables}\n",
        "        new_final_states = [state for state in nfa.final_states if state in unreachables]\n",
        "\n",
        "        return NFA(\n",
        "            states= new_states,\n",
        "            alphabet=nfa.alphabet,\n",
        "            transitions=new_transitions,\n",
        "            start_state=nfa.start_state,\n",
        "            final_states=new_final_states,\n",
        "            name=nfa.name\n",
        "        )\n",
        "\n",
        "    def eliminar_estados_muertos(self, nfa):\n",
        "\n",
        "        vivos = set(nfa.final_states)\n",
        "        por_visitar = set(nfa.final_states)\n",
        "\n",
        "        while por_visitar:\n",
        "            estado_actual = por_visitar.pop()\n",
        "\n",
        "            for estado in nfa.states:\n",
        "                for simbolo in nfa.alphabet:\n",
        "                    if simbolo in nfa.transitions.get(estado, {}) and estado_actual in nfa.transitions[estado][simbolo]:\n",
        "                        if estado not in vivos:\n",
        "                            vivos.add(estado)\n",
        "                            por_visitar.add(estado)\n",
        "\n",
        "        # Filtrar estados y transiciones\n",
        "        new_states = [estado for estado in nfa.states if estado in vivos]\n",
        "        new_transitions = {estado: {simbolo: dest for simbolo, dest in trans.items() if all(d in vivos for d in dest)}\n",
        "                            for estado, trans in nfa.transitions.items() if estado in vivos}\n",
        "        new_final_states = [estado for estado in nfa.final_states if estado in vivos]\n",
        "\n",
        "        return NFA(\n",
        "            states= new_states,\n",
        "            alphabet=nfa.alphabet,\n",
        "            transitions=new_transitions,\n",
        "            start_state=nfa.start_state,\n",
        "            final_states=new_final_states,\n",
        "            name=nfa.name\n",
        "        )\n"
      ]
    },
    {
      "cell_type": "markdown",
      "metadata": {
        "id": "a9C6nKv5ecm0"
      },
      "source": [
        "##### 2.3 Ejemplo de uso\n",
        "\n"
      ]
    },
    {
      "cell_type": "code",
      "execution_count": null,
      "metadata": {
        "id": "F9eMSS5oecm0",
        "outputId": "2486c7b9-4b46-4602-9a17-8199e5158998"
      },
      "outputs": [
        {
          "name": "stdout",
          "output_type": "stream",
          "text": [
            "NFA después de eliminar estados inalcanzables: \n",
            "=====================================\n",
            "NFA: \n",
            "=====================================\n",
            "States: ['S5', 'S2', 'S4']\n",
            "Alphabet: {'a', 'b'}\n",
            "Transitions:\n",
            "S5 --a--> S2\n",
            "S5 --b--> S4\n",
            "Start State: S5\n",
            "Final States: []\n",
            "=====================================\n",
            "\n",
            "=====================================\n",
            "\n",
            "NFA después de eliminar estados muertos: \n",
            "=====================================\n",
            "NFA: \n",
            "=====================================\n",
            "States: []\n",
            "Alphabet: {'a', 'b'}\n",
            "Transitions:\n",
            "\n",
            "Start State: S5\n",
            "Final States: []\n",
            "=====================================\n",
            "\n",
            "=====================================\n",
            "\n"
          ]
        }
      ],
      "source": [
        "# Definición del NFA\n",
        "\n",
        "states= ['q0', 'q1', 'q2', 'q3', 'q4']\n",
        "alphabet= ['a', 'b']\n",
        "transitions= {\n",
        "        'q0': {'a': {'q1'}},\n",
        "        'q1': {'b': {'q2'}},\n",
        "        'q2': {'a': {'q3'}, 'b': {'q3'}},\n",
        "        'q3': {'a': {'q4'}},\n",
        "        'q4': {}  # q4 es un estado muerto\n",
        "    }\n",
        "start_state= 'q0'\n",
        "final_states= ['q3']\n",
        "\n",
        "\n",
        "nfaOptimizer = NFAOptimizer()\n",
        "\n",
        "nfaNoEpsilon = nfaOptimizer.remove_epsilon_transitions(nfa)\n",
        "\n",
        "# Eliminación de estados inalcanzables\n",
        "nfaWithoutUnreachables = nfaOptimizer.eliminar_estados_inalcanzables(nfaNoEpsilon)\n",
        "print(\"NFA después de eliminar estados inalcanzables:\", nfaWithoutUnreachables)\n",
        "\n",
        "# Eliminación de estados muertos\n",
        "nfaOptimized = nfaOptimizer.eliminar_estados_muertos(nfaWithoutUnreachables)\n",
        "print(\"NFA después de eliminar estados muertos:\", nfaOptimized)"
      ]
    },
    {
      "cell_type": "markdown",
      "metadata": {
        "id": "OY8d1rutecm0"
      },
      "source": [
        "##### 2.4 Pruebas Unitarias"
      ]
    },
    {
      "cell_type": "code",
      "execution_count": null,
      "metadata": {
        "id": "U3Bwzcq7ecm0",
        "outputId": "689036b8-a0a1-48e9-dcda-38379e3a10c3"
      },
      "outputs": [
        {
          "name": "stdout",
          "output_type": "stream",
          "text": [
            "\u001b[1m======================================= test session starts =======================================\u001b[0m\n",
            "platform win32 -- Python 3.11.9, pytest-8.3.2, pluggy-1.5.0 -- C:\\Users\\MSI\\AppData\\Local\\Microsoft\\WindowsApps\\PythonSoftwareFoundation.Python.3.11_qbz5n2kfra8p0\\python.exe\n",
            "cachedir: .pytest_cache\n",
            "rootdir: c:\\Users\\MSI\\OneDrive\\Escritorio\\Maestria\\Automatas\\AutomataTheory\n",
            "plugins: anyio-3.6.2\n",
            "\u001b[1mcollecting ... \u001b[0mcollected 6 items\n",
            "\n",
            "t_6ad0b5008c3e4200919b61b1d4b105da.py::test_emptyRegex \u001b[32mPASSED\u001b[0m\u001b[32m                                [ 16%]\u001b[0m\n",
            "t_6ad0b5008c3e4200919b61b1d4b105da.py::test_1varRegex \u001b[32mPASSED\u001b[0m\u001b[32m                                 [ 33%]\u001b[0m\n",
            "t_6ad0b5008c3e4200919b61b1d4b105da.py::test_orRegex \u001b[32mPASSED\u001b[0m\u001b[32m                                   [ 50%]\u001b[0m\n",
            "t_6ad0b5008c3e4200919b61b1d4b105da.py::test_concatRegex \u001b[32mPASSED\u001b[0m\u001b[32m                               [ 66%]\u001b[0m\n",
            "t_6ad0b5008c3e4200919b61b1d4b105da.py::test_atLeast1aRegex \u001b[32mPASSED\u001b[0m\u001b[32m                            [ 83%]\u001b[0m\n",
            "t_6ad0b5008c3e4200919b61b1d4b105da.py::test_epsilon_removal \u001b[32mPASSED\u001b[0m\u001b[32m                           [100%]\u001b[0m\n",
            "\n",
            "\u001b[32m======================================== \u001b[32m\u001b[1m6 passed\u001b[0m\u001b[32m in 0.06s\u001b[0m\u001b[32m ========================================\u001b[0m\n"
          ]
        },
        {
          "data": {
            "text/plain": [
              "<ExitCode.OK: 0>"
            ]
          },
          "execution_count": 102,
          "metadata": {},
          "output_type": "execute_result"
        }
      ],
      "source": [
        "def test_epsilon_removal():\n",
        "    optimizer = NFAOptimizer()\n",
        "\n",
        "    states = ['q0', 'q1', 'q2']\n",
        "    alphabet = ['a', 'b']\n",
        "    transitions = {\n",
        "        'q0': {'a': {'q1'}},                # From q0, on 'a', move to q1\n",
        "        'q1': {'b': {'q1'}, EPSILON: {'q2'}},    # From q1, on 'b', stay in q1 (loop for repetition), epsilon transition to q2\n",
        "        'q2': {}                            # q2 is the accept state, no outgoing transitions\n",
        "    }\n",
        "    start_state = 'q0'\n",
        "    final_states = ['q2']\n",
        "\n",
        "    nfa = NFA(states=states, alphabet=alphabet, transitions=transitions, start_state=start_state, final_states=final_states)\n",
        "    print(nfa)\n",
        "    assert 3 == len(nfa.states)\n",
        "    assert 2 == len(nfa.alphabet)\n",
        "    assert 'q0' == nfa.start_state\n",
        "    assert 1 == len(nfa.final_states)\n",
        "    assert EPSILON in nfa.transitions['q1']\n",
        "\n",
        "    #assert 2 == nfa.get_states_from_transitions()\n",
        "    nfaNoEpsilon = optimizer.remove_epsilon_transitions(nfa)\n",
        "    assert 3 == len(nfaNoEpsilon.states)\n",
        "    assert 2 == len(nfaNoEpsilon.alphabet)\n",
        "    assert 'q0' == nfaNoEpsilon.start_state\n",
        "    assert ['q2'] == nfaNoEpsilon.final_states\n",
        "    assert EPSILON not in nfaNoEpsilon.transitions['q1']\n",
        "\n",
        "\n",
        "ipytest.run('-vv')"
      ]
    },
    {
      "cell_type": "markdown",
      "metadata": {
        "id": "wyes0wjJecm0"
      },
      "source": [
        "##### 2.5 Conclusión\n",
        "\n",
        "\n",
        "TBD"
      ]
    },
    {
      "cell_type": "markdown",
      "metadata": {
        "id": "4ADBCWp2tUOA"
      },
      "source": [
        "#### - **Parte 2:** **Desafío Adicional:** Implementa un algoritmo de minimización de NFA basado en particiones de estados equivalentes. Realiza un análisis de eficiencia comparando el NFA original, el NFA sin transiciones $\\varepsilon$, y el NFA minimizado, en términos de cantidad de estados y transiciones."
      ]
    },
    {
      "cell_type": "code",
      "execution_count": null,
      "metadata": {
        "id": "5-EFarDRtEoz"
      },
      "outputs": [],
      "source": [
        "class NFAMinimizer:\n",
        "    def __init(self):\n",
        "        pass\n",
        "\n",
        "\n",
        "    def minimize(self, nfa):\n",
        "        \"\"\" Minimize the NFA by merging equivalent states. \"\"\"\n",
        "        partitions = [set(nfa.final_states), set(nfa.states) - set(nfa.final_states)]\n",
        "        changed = True\n",
        "\n",
        "        while changed:\n",
        "            changed = False\n",
        "            new_partitions = []\n",
        "            for partition in partitions:\n",
        "                sub_partitions = self._refine_partition_(partition, partitions)\n",
        "                new_partitions.extend(sub_partitions)\n",
        "                if len(sub_partitions) > 1:\n",
        "                    changed = True\n",
        "            partitions = new_partitions\n",
        "\n",
        "        state_mapping = {}\n",
        "        for partition in partitions:\n",
        "            representative = next(iter(partition))\n",
        "            for state in partition:\n",
        "                state_mapping[state] = representative\n",
        "\n",
        "        new_states = list(set(state_mapping.values()))\n",
        "        new_transitions = {}\n",
        "        for state in new_states:\n",
        "            new_transitions[state] = {}\n",
        "            for symbol in nfa.alphabet:\n",
        "                if symbol in nfa.transitions.get(state, {}):\n",
        "                    new_transitions[state][symbol] = {state_mapping[s] for s in nfa.transitions[state][symbol]}\n",
        "\n",
        "        new_final_states = {state_mapping[s] for s in nfa.final_states}\n",
        "\n",
        "        return NFA(\n",
        "            states=new_states,\n",
        "            alphabet=nfa.alphabet,\n",
        "            transitions=new_transitions,\n",
        "            start_state=nfa.start_state,\n",
        "            final_states=list(new_final_states),\n",
        "            name=nfa.name\n",
        "        )\n",
        "\n",
        "    def _refine_partition_(self, partition, partitions):\n",
        "        \"\"\" Split a partition into sub-partitions if necessary. \"\"\"\n",
        "        sub_partitions = []\n",
        "        for state in partition:\n",
        "            placed = False\n",
        "            for sub_partition in sub_partitions:\n",
        "                if self._are_equivalent_(nfa, state, next(iter(sub_partition)), partitions):\n",
        "                    sub_partition.add(state)\n",
        "                    placed = True\n",
        "                    break\n",
        "            if not placed:\n",
        "                sub_partitions.append({state})\n",
        "        return sub_partitions\n",
        "\n",
        "    def _are_equivalent_(self, nfa, state1, state2, partitions):\n",
        "        \"\"\" Check if two states are equivalent given the current partitions. \"\"\"\n",
        "        for symbol in nfa.alphabet:\n",
        "            next1 = nfa.transitions.get(state1, {}).get(symbol, set())\n",
        "            next2 = nfa.transitions.get(state2, {}).get(symbol, set())\n",
        "            if not any((next1 <= p and next2 <= p) for p in partitions):\n",
        "                return False\n",
        "        return True"
      ]
    },
    {
      "cell_type": "markdown",
      "metadata": {
        "id": "5fGVzx2decm1"
      },
      "source": [
        "##### Análisis de eficiencia"
      ]
    },
    {
      "cell_type": "code",
      "execution_count": null,
      "metadata": {
        "id": "08ydnpiQecm1",
        "outputId": "4cf5787e-d8d8-4ff5-a98d-51fb8bdd831b"
      },
      "outputs": [
        {
          "name": "stdout",
          "output_type": "stream",
          "text": [
            "Original NFA: 6 estados, 5 transiciones\n",
            "NFA No Epsilon: 6 estados, 4 transiciones\n",
            "Minimized NFA: 2 estados, 0 transiciones\n"
          ]
        }
      ],
      "source": [
        "nfaMinimizer = NFAMinimizer()\n",
        "\n",
        "nfa_minimized = nfaMinimizer.minimize(nfa)\n",
        "\n",
        "# Analizar eficiencia\n",
        "print(f\"Original NFA: {len(nfa.states)} estados, {sum(len(v) for v in nfa.transitions.values())} transiciones\")\n",
        "print(f\"NFA No Epsilon: {len(nfaNoEpsilon.states)} estados, {sum(len(v) for v in nfaNoEpsilon.transitions.values())} transiciones\")\n",
        "print(f\"Minimized NFA: {len(nfa_minimized.states)} estados, {sum(len(v) for v in nfa_minimized.transitions.values())} transiciones\")"
      ]
    },
    {
      "cell_type": "markdown",
      "metadata": {
        "id": "z8Cgpxo3tFPj"
      },
      "source": [
        "#### **Problema 3: Simulación de `PatternMatchingNFA` con Optimización de Búsqueda**\n",
        "- **Descripción:**\n",
        "  - Implementa un simulador en Python que utilice el NFA minimizado del Problema 2 para realizar una coincidencia de patrones eficiente en un texto dado. El simulador debe optimizar la búsqueda mediante heurísticas que reduzcan el número de transiciones exploradas."
      ]
    },
    {
      "cell_type": "markdown",
      "source": [
        "3.1 Introducción:\n",
        "- El simulador mantiene un conjunto de estados actuales y solo explora transiciones que corresponden al símbolo actual del texto. Esto reduce el número de transiciones exploradas.\n",
        "- *Coincidencia de patrones*: Devuelve True si alguna secuencia del texto lleva a un estado final del NFA, indicando que se ha encontrado un patrón."
      ],
      "metadata": {
        "id": "yNBHW3nxosfR"
      }
    },
    {
      "cell_type": "markdown",
      "source": [
        "3.2 Código:"
      ],
      "metadata": {
        "id": "J3bnWEZ-pTYj"
      }
    },
    {
      "cell_type": "code",
      "execution_count": 1,
      "metadata": {
        "id": "EzzjVJfutaD-"
      },
      "outputs": [],
      "source": [
        "class PatternMatchingNFA:\n",
        "    def __init__(self, nfa):\n",
        "        self.nfa = nfa\n",
        "\n",
        "    def search(self, text):\n",
        "        current_states = {self.nfa.start_state}\n",
        "        for symbol in text:\n",
        "            next_states = set()\n",
        "            for state in current_states:\n",
        "                if symbol in self.nfa.transitions.get(state, {}):\n",
        "                    next_states.update(self.nfa.transitions[state][symbol])\n",
        "            current_states = next_states\n",
        "            if not current_states:\n",
        "                break\n",
        "        return bool(current_states & self.nfa.final_states)"
      ]
    },
    {
      "cell_type": "markdown",
      "source": [
        "3.3 Ejemplo:"
      ],
      "metadata": {
        "id": "qT1SIB2ypaaK"
      }
    },
    {
      "cell_type": "code",
      "source": [
        "class NFA:\n",
        "    def __init__(self, start_state, final_states, transitions):\n",
        "        self.start_state = start_state\n",
        "        self.final_states = final_states\n",
        "        self.transitions = transitions\n",
        "\n",
        "class PatternMatchingNFA:\n",
        "    def __init__(self, nfa):\n",
        "        self.nfa = nfa\n",
        "\n",
        "    def search(self, text):\n",
        "        current_states = {self.nfa.start_state}  # Conjunto de estados actuales\n",
        "        for symbol in text:\n",
        "            next_states = set()  # Conjunto de próximos estados\n",
        "            for state in current_states:\n",
        "                if symbol in self.nfa.transitions.get(state, {}):\n",
        "                    # Agregamos los estados alcanzables por la transición\n",
        "                    next_states.update(self.nfa.transitions[state][symbol])\n",
        "            current_states = next_states  # Actualizamos los estados actuales\n",
        "            if not current_states:\n",
        "                # Si no hay más estados a procesar, terminamos\n",
        "                break\n",
        "        # Verificamos si algún estado final fue alcanzado\n",
        "        return bool(current_states & self.nfa.final_states)\n",
        "\n",
        "# Ejemplo de uso con un NFA básico\n",
        "nfa_minimized = NFA(\n",
        "    start_state=0,  # Estado inicial\n",
        "    final_states={2},  # Estados finales\n",
        "    transitions={\n",
        "        0: {'a': {0, 1}},  # Del estado 0, con 'a' va a 0 y 1\n",
        "        1: {'b': {2}},     # Del estado 1, con 'b' va a 2\n",
        "        2: {}              # Estado final no tiene más transiciones\n",
        "    }\n",
        ")\n",
        "\n",
        "pattern_matcher = PatternMatchingNFA(nfa_minimized)\n",
        "text = \"aab\"\n",
        "result = pattern_matcher.search(text)\n",
        "print(\"Pattern found:\", result)  # Debería imprimir \"Pattern found: True\""
      ],
      "metadata": {
        "colab": {
          "base_uri": "https://localhost:8080/"
        },
        "id": "IVstzrjGpcpj",
        "outputId": "612d6f19-6a83-47fc-edbb-86e29f923524"
      },
      "execution_count": 5,
      "outputs": [
        {
          "output_type": "stream",
          "name": "stdout",
          "text": [
            "Pattern found: True\n"
          ]
        }
      ]
    },
    {
      "cell_type": "markdown",
      "source": [
        "3.4 Conclusión:\n",
        "El algoritmo optimiza la búsqueda al mantener un conjunto de estados actuales y explorar solo las transiciones correspondientes al símbolo actual del texto. Esto reduce significativamente el número de transiciones, mejorando la eficiencia.\n",
        "El principal desafío es manejar casos donde múltiples estados pueden coincidir simultáneamente, lo que requiere un manejo cuidadoso para asegurar que no se omitan coincidencias. Además, se deben considerar estrategias para textos grandes."
      ],
      "metadata": {
        "id": "D9N7597oqDgv"
      }
    },
    {
      "cell_type": "markdown",
      "metadata": {
        "id": "cL91D-ibtaZ4"
      },
      "source": [
        "- **Parte 2:** **Desafío Adicional:** Implementa una estrategia de búsqueda paralela para acelerar el proceso de coincidencia en textos grandes, utilizando múltiples hilos o procesos. Analiza el rendimiento de tu implementación en términos de tiempo de ejecución y uso de recursos."
      ]
    },
    {
      "cell_type": "markdown",
      "source": [
        "Enfoque\n",
        "\n",
        "División del Texto: Dado que estamos buscando coincidencias en un texto grande, podemos dividir el texto en varios fragmentos y asignar cada fragmento a un hilo o proceso separado para realizar la búsqueda de forma independiente.\n",
        "\n",
        "Búsqueda: Utilizaremos hilos o procesos para ejecutar búsquedas en paralelo. Dependiendo de la biblioteca que elijamos, podemos optar por un enfoque de multiprocesamiento (usando múltiples CPU) o multihilos (ideal para operaciones con E/S intensiva).\n",
        "\n",
        "Resultados: Cada hilo o proceso devolverá el índice de la primera aparición del patrón en su segmento. Finalmente, un hilo principal consolidará los resultados.\n",
        "\n",
        "Alineación: Dado que estamos dividiendo el texto, necesitaremos verificar que las coincidencias no se dividan entre dos fragmentos adyacentes. Esto requiere revisar el comienzo de cada fragmento con respecto al final del anterior para asegurar que no se pierda ninguna coincidencia."
      ],
      "metadata": {
        "id": "BtuNq77wsBD2"
      }
    },
    {
      "cell_type": "code",
      "execution_count": 6,
      "metadata": {
        "id": "-wc1i_dMtJKm",
        "colab": {
          "base_uri": "https://localhost:8080/"
        },
        "outputId": "75221f77-4d1c-40ca-a52a-61b4e00662b7"
      },
      "outputs": [
        {
          "output_type": "stream",
          "name": "stdout",
          "text": [
            "Buscando el patrón 'patron' en el texto usando 2 hilos...\n",
            "Patrón encontrado en la posición 10000000\n",
            "Tiempo de ejecución: 3.881833791732788 segundos\n"
          ]
        }
      ],
      "source": [
        "import multiprocessing\n",
        "from multiprocessing import Pool\n",
        "import time\n",
        "\n",
        "# Función para buscar un patrón en un fragmento de texto\n",
        "def buscar_patron_en_fragmento(args):\n",
        "    fragmento, patron, inicio_fragmento = args\n",
        "    m = len(patron)\n",
        "    n = len(fragmento)\n",
        "\n",
        "    # Revisamos las coincidencias en el fragmento\n",
        "    for i in range(n - m + 1):\n",
        "        if fragmento[i:i+m] == patron:\n",
        "            # Retornamos la posición de la coincidencia relativa al texto original\n",
        "            return inicio_fragmento + i\n",
        "    return -1\n",
        "\n",
        "# Función para dividir el texto en fragmentos y realizar la búsqueda en paralelo\n",
        "def buscar_patron_en_texto_parallel(texto, patron, num_hilos):\n",
        "    n = len(texto)\n",
        "    m = len(patron)\n",
        "    fragmentos = []\n",
        "    fragment_size = n // num_hilos\n",
        "\n",
        "    # Dividimos el texto en fragmentos, asegurándonos de solaparlos en los bordes\n",
        "    for i in range(num_hilos):\n",
        "        inicio_fragmento = i * fragment_size\n",
        "        fin_fragmento = inicio_fragmento + fragment_size + m - 1  # Solapamiento para patrones divididos\n",
        "        if fin_fragmento > n:\n",
        "            fin_fragmento = n\n",
        "        fragmento = texto[inicio_fragmento:fin_fragmento]\n",
        "        fragmentos.append((fragmento, patron, inicio_fragmento))\n",
        "\n",
        "    # Usamos un Pool para realizar la búsqueda en paralelo\n",
        "    with Pool(num_hilos) as pool:\n",
        "        resultados = pool.map(buscar_patron_en_fragmento, fragmentos)\n",
        "\n",
        "    # Filtramos los resultados para obtener la primera coincidencia\n",
        "    for resultado in resultados:\n",
        "        if resultado != -1:\n",
        "            return resultado\n",
        "    return -1\n",
        "\n",
        "# Función principal para probar el rendimiento\n",
        "if __name__ == '__main__':\n",
        "    texto_grande = \"a\" * 10000000 + \"patron\" + \"a\" * 10000000  # Texto largo con patrón en el medio\n",
        "    patron = \"patron\"\n",
        "    num_hilos = multiprocessing.cpu_count()  # Usar el número de núcleos disponibles\n",
        "\n",
        "    print(f\"Buscando el patrón '{patron}' en el texto usando {num_hilos} hilos...\")\n",
        "\n",
        "    # Medimos el tiempo de ejecución\n",
        "    inicio = time.time()\n",
        "    resultado = buscar_patron_en_texto_parallel(texto_grande, patron, num_hilos)\n",
        "    fin = time.time()\n",
        "\n",
        "    if resultado != -1:\n",
        "        print(f\"Patrón encontrado en la posición {resultado}\")\n",
        "    else:\n",
        "        print(\"Patrón no encontrado\")\n",
        "\n",
        "    print(f\"Tiempo de ejecución: {fin - inicio} segundos\")\n"
      ]
    },
    {
      "cell_type": "markdown",
      "metadata": {
        "id": "yYgLUuIjtJjD"
      },
      "source": [
        "\n",
        "#### **Problema 4: Conversión de NFA a DFA y Manejo de la Explosión Exponencial de Estados**\n",
        "- **Descripción:**\n",
        "  - Convierte el NFA minimizado del Problema 2 en un DFA usando `NFAtoDFA`. Dado que la conversión de NFA a DFA puede resultar en una explosión exponencial de estados, implementa técnicas para manejar y mitigar este problema.\n"
      ]
    },
    {
      "cell_type": "code",
      "execution_count": null,
      "metadata": {
        "id": "mt5A0H1VtdSm"
      },
      "outputs": [],
      "source": []
    },
    {
      "cell_type": "markdown",
      "metadata": {
        "id": "2GG3i05XtdpF"
      },
      "source": [
        "- **Parte 2:** **Desafío Adicional:** Diseña e implementa un algoritmo de conversión incremental que solo construya partes del DFA según sea necesario durante la coincidencia de patrones. Esto incluye el concepto de \"DFA bajo demanda\". Evalúa cómo esta técnica afecta el rendimiento en comparación con un DFA preconstruido completo."
      ]
    },
    {
      "cell_type": "code",
      "execution_count": null,
      "metadata": {
        "id": "KrkBoKAftMWQ"
      },
      "outputs": [],
      "source": []
    },
    {
      "cell_type": "markdown",
      "metadata": {
        "id": "rYxKB-5BtNBA"
      },
      "source": [
        "#### **Problema 5: Simulación de `PatternMatchingDFA` con Memorización y Predicción**\n",
        "- **Descripción:**\n",
        "  - Implementa un simulador para el DFA obtenido en el Problema 4. Para mejorar la eficiencia, incorpora técnicas de memorización (almacenamiento en caché de resultados de subproblemas) y predicción de transiciones, anticipando las siguientes letras en el texto.\n"
      ]
    },
    {
      "cell_type": "code",
      "execution_count": null,
      "metadata": {
        "id": "yvebcQuCtifX"
      },
      "outputs": [],
      "source": []
    },
    {
      "cell_type": "markdown",
      "metadata": {
        "id": "CH3bcfNRti8a"
      },
      "source": [
        "- **Parte 2:** **Desafío Adicional:** Extiende el simulador para manejar textos de gran tamaño, donde se requieren estrategias de almacenamiento y recuperación de datos eficientes. Esto podría incluir la implementación de estructuras de datos avanzadas como árboles de sufijos o tries para gestionar la búsqueda de patrones en grandes volúmenes de texto."
      ]
    },
    {
      "cell_type": "code",
      "execution_count": null,
      "metadata": {
        "id": "IXVzcL3BtPeu"
      },
      "outputs": [],
      "source": []
    },
    {
      "cell_type": "markdown",
      "metadata": {
        "id": "jrbC5dwy02rl"
      },
      "source": [
        "\n",
        "\n",
        "#### **Problema 6: Comparación Empírica y Teórica de `PatternMatchingNFA` vs. `PatternMatchingDFA` en Escenarios Complejos**\n",
        "- **Descripción:**\n",
        "  - Realiza un estudio comparativo entre los algoritmos `PatternMatchingNFA` y `PatternMatchingDFA` en términos de eficiencia, uso de memoria y aplicabilidad en escenarios reales con textos y patrones de alta complejidad.\n",
        "\n"
      ]
    },
    {
      "cell_type": "markdown",
      "source": [
        "6.1 Introducción:\n",
        "\n",
        "PatternMatchingNFA\n",
        "\n",
        "Utiliza un autómata finito no determinista (NFA) para la coincidencia de patrones.\n",
        "El NFA puede estar en múltiples estados al mismo tiempo, lo que permite transiciones paralelas.\n",
        "La búsqueda avanza mediante exploración de estados a través de cada símbolo del texto, verificando si algún estado alcanzado es final.\n",
        "PatternMatchingDFA\n",
        "\n",
        "Utiliza un autómata finito determinista (DFA).\n",
        "\n",
        "Un DFA tiene un único estado en cada paso, por lo que las transiciones son más sencillas y directas.\n",
        "Los DFAs suelen ser más rápidos en tiempo de ejecución porque no hay múltiples estados simultáneos, pero la construcción de un DFA a partir de un NFA puede ser costosa, especialmente en términos de memoria."
      ],
      "metadata": {
        "id": "-knfUUs1xv9m"
      }
    },
    {
      "cell_type": "markdown",
      "source": [
        "![Screenshot 2024-09-02 at 4.11.34 PM.png](data:image/png;base64,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)"
      ],
      "metadata": {
        "id": "G4EokdoEyEyK"
      }
    },
    {
      "cell_type": "markdown",
      "source": [
        "6.2 Código:"
      ],
      "metadata": {
        "id": "ZTPA9ubfzN30"
      }
    },
    {
      "cell_type": "code",
      "source": [
        "class NFA:\n",
        "    def __init__(self, start_state, final_states, transitions):\n",
        "        self.start_state = start_state\n",
        "        self.final_states = final_states\n",
        "        self.transitions = transitions\n",
        "\n",
        "class PatternMatchingNFA:\n",
        "    def __init__(self, nfa):\n",
        "        self.nfa = nfa\n",
        "\n",
        "    def search(self, text):\n",
        "        current_states = {self.nfa.start_state}\n",
        "        for symbol in text:\n",
        "            next_states = set()\n",
        "            for state in current_states:\n",
        "                if symbol in self.nfa.transitions.get(state, {}):\n",
        "                    next_states.update(self.nfa.transitions[state][symbol])\n",
        "            current_states = next_states\n",
        "            if not current_states:\n",
        "                break\n",
        "        return bool(current_states & self.nfa.final_states)\n",
        "\n",
        "# NFA de ejemplo para el patrón a*b*c*\n",
        "nfa_minimized = NFA(\n",
        "    start_state=0,\n",
        "    final_states={3},\n",
        "    transitions={\n",
        "        0: {'a': {0, 1}},  # Del estado 0, 'a' va a 0 o 1\n",
        "        1: {'b': {1, 2}},  # Del estado 1, 'b' va a 1 o 2\n",
        "        2: {'c': {2, 3}},  # Del estado 2, 'c' va a 2 o 3\n",
        "        3: {}              # Estado final no tiene más transiciones\n",
        "    }\n",
        ")\n",
        "\n",
        "pattern_matcher_nfa = PatternMatchingNFA(nfa_minimized)\n",
        "text = \"aaabbbccc\"\n",
        "result_nfa = pattern_matcher_nfa.search(text)\n",
        "print(\"Pattern found with NFA:\", result_nfa)\n"
      ],
      "metadata": {
        "colab": {
          "base_uri": "https://localhost:8080/"
        },
        "id": "ykjnu7ZnzQ8V",
        "outputId": "f1c044d7-6056-40e9-e27e-16c828bf71ae"
      },
      "execution_count": 7,
      "outputs": [
        {
          "output_type": "stream",
          "name": "stdout",
          "text": [
            "Pattern found with NFA: True\n"
          ]
        }
      ]
    },
    {
      "cell_type": "markdown",
      "source": [
        "6.3 Código y Ejemplo"
      ],
      "metadata": {
        "id": "C8D7C7Pyzjgh"
      }
    },
    {
      "cell_type": "code",
      "execution_count": 10,
      "metadata": {
        "id": "h4nPZ--etlQX",
        "colab": {
          "base_uri": "https://localhost:8080/"
        },
        "outputId": "9a8e9472-d7f0-4ad9-a99f-b6a857b6f08d"
      },
      "outputs": [
        {
          "output_type": "stream",
          "name": "stdout",
          "text": [
            "Pattern found with DFA: False\n"
          ]
        }
      ],
      "source": [
        "class DFA:\n",
        "    def __init__(self, start_state, final_states, transitions):\n",
        "        self.start_state = start_state\n",
        "        self.final_states = final_states\n",
        "        self.transitions = transitions\n",
        "\n",
        "class PatternMatchingDFA:\n",
        "    def __init__(self, dfa):\n",
        "        self.dfa = dfa\n",
        "\n",
        "    def search(self, text):\n",
        "        current_state = self.dfa.start_state\n",
        "        for symbol in text:\n",
        "            if symbol in self.dfa.transitions.get(current_state, {}):\n",
        "                current_state = self.dfa.transitions[current_state][symbol]\n",
        "            else:\n",
        "                return False\n",
        "        return current_state in self.dfa.final_states\n",
        "\n",
        "# DFA de ejemplo para el patrón a*b*c*\n",
        "dfa_minimized = DFA(\n",
        "    start_state=0,\n",
        "    final_states={3},\n",
        "    transitions={\n",
        "        0: {'a': 1},  # Del estado 0, 'a' va a 1\n",
        "        1: {'b': 2},  # Del estado 1, 'b' va a 2\n",
        "        2: {'c': 3},  # Del estado 2, 'c' va a 3\n",
        "        3: {}         # Estado final no tiene más transiciones\n",
        "    }\n",
        ")\n",
        "\n",
        "pattern_matcher_dfa = PatternMatchingDFA(dfa_minimized)\n",
        "result_dfa = pattern_matcher_dfa.search(text)\n",
        "print(\"Pattern found with DFA:\", result_dfa)"
      ]
    },
    {
      "cell_type": "markdown",
      "source": [
        "6.4 Conclusiones:\n",
        "\n",
        "Texto: \"aaabbbccc\" (longitud 9)\n",
        "Patrón: \"a * b * c * \", que representa un patrón de múltiples repeticiones.\n",
        "\n",
        "Resultados esperados:\n",
        "\n",
        "PatternMatchingNFA:\n",
        "Durante la búsqueda, explora múltiples transiciones paralelas debido a las repeticiones del patrón (a *, b *, c *), lo que puede hacer que el algoritmo sea más lento con un gran número de transiciones.\n",
        "El uso de memoria será bajo, ya que solo necesita almacenar los estados alcanzables en cada paso.\n",
        "\n",
        "PatternMatchingDFA:\n",
        "El DFA realiza una única transición por cada símbolo, por lo que será más rápido en la búsqueda, pero la construcción del DFA puede consumir más tiempo y memoria, especialmente en patrones más complejos."
      ],
      "metadata": {
        "id": "adLlTLUbz2Qw"
      }
    },
    {
      "cell_type": "markdown",
      "metadata": {
        "id": "H75AJtQltlir"
      },
      "source": [
        "- **Parte 2:** **Desafío Adicional:** Implementa un modelo híbrido que combine las ventajas del NFA y DFA, utilizando el NFA en etapas tempranas para filtrar posibles coincidencias y el DFA para validar las coincidencias finales. Evalúa este enfoque en comparación con el uso exclusivo de NFA o DFA en términos de precisión y rendimiento."
      ]
    },
    {
      "cell_type": "markdown",
      "source": [
        "El híbrido es útil en escenarios donde el patrón es complejo y el texto es grande. Por ejemplo, en la búsqueda en grandes bases de datos de texto, donde es importante reducir el número de transiciones exploradas.\n",
        "\n",
        "Ejemplo:\n",
        "\n",
        "Patrón: \"a * b * c *\"\n",
        "\n",
        "Texto: \"aaabbbccc\" (con millones de repeticiones)\n",
        "\n",
        "Resultado: El NFA filtra las posiciones donde podría haber una coincidencia, y el DFA valida la coincidencia final de manera rápida."
      ],
      "metadata": {
        "id": "Purwd_ik2Dj5"
      }
    },
    {
      "cell_type": "code",
      "source": [
        "class NFA:\n",
        "    def __init__(self, start_state, final_states, transitions):\n",
        "        self.start_state = start_state\n",
        "        self.final_states = final_states\n",
        "        self.transitions = transitions\n",
        "\n",
        "    def search_partial(self, text):\n",
        "        \"\"\"Busca posibles coincidencias iniciales en el texto usando NFA.\"\"\"\n",
        "        current_states = {self.start_state}\n",
        "        candidate_indices = []\n",
        "\n",
        "        for index, symbol in enumerate(text):\n",
        "            next_states = set()\n",
        "            for state in current_states:\n",
        "                if symbol in self.transitions.get(state, {}):\n",
        "                    next_states.update(self.transitions[state][symbol])\n",
        "            current_states = next_states\n",
        "\n",
        "            # Si hemos alcanzado algún estado final, guardamos el índice\n",
        "            if current_states & self.final_states:\n",
        "                candidate_indices.append(index)\n",
        "\n",
        "            if not current_states:\n",
        "                break\n",
        "\n",
        "        return candidate_indices  # Retorna los índices candidatos de coincidencia\n",
        "\n",
        "class DFA:\n",
        "    def __init__(self, start_state, final_states, transitions):\n",
        "        self.start_state = start_state\n",
        "        self.final_states = final_states\n",
        "        self.transitions = transitions\n",
        "\n",
        "    def validate(self, text, start_index):\n",
        "        \"\"\"Valida la coincidencia a partir de un índice inicial usando DFA.\"\"\"\n",
        "        current_state = self.start_state\n",
        "\n",
        "        for symbol in text[start_index:]:\n",
        "            if symbol in self.transitions.get(current_state, {}):\n",
        "                current_state = self.transitions[current_state][symbol]\n",
        "            else:\n",
        "                return False  # No es una coincidencia válida\n",
        "\n",
        "        return current_state in self.final_states  # Verifica si terminamos en un estado final\n",
        "\n",
        "class HybridPatternMatcher:\n",
        "    def __init__(self, nfa, dfa):\n",
        "        self.nfa = nfa\n",
        "        self.dfa = dfa\n",
        "\n",
        "    def search(self, text):\n",
        "        # Fase 1: Usar NFA para buscar posibles coincidencias parciales\n",
        "        candidate_indices = self.nfa.search_partial(text)\n",
        "        print(f\"Candidate indices found by NFA: {candidate_indices}\")\n",
        "\n",
        "        # Fase 2: Validar cada coincidencia con DFA\n",
        "        for start_index in candidate_indices:\n",
        "            if self.dfa.validate(text, start_index):\n",
        "                return True  # Si se valida correctamente, hay coincidencia\n",
        "\n",
        "        return False  # No se encontró coincidencia válida\n",
        "\n",
        "# Ejemplo de NFA y DFA (patrón \"a*b*c*\")\n",
        "nfa_minimized = NFA(\n",
        "    start_state=0,\n",
        "    final_states={3},\n",
        "    transitions={\n",
        "        0: {'a': {0, 1}},  # Del estado 0, 'a' va a 0 o 1\n",
        "        1: {'b': {1, 2}},  # Del estado 1, 'b' va a 1 o 2\n",
        "        2: {'c': {2, 3}},  # Del estado 2, 'c' va a 2 o 3\n",
        "        3: {}              # Estado final no tiene más transiciones\n",
        "    }\n",
        ")\n",
        "\n",
        "dfa_minimized = DFA(\n",
        "    start_state=0,\n",
        "    final_states={3},\n",
        "    transitions={\n",
        "        0: {'a': 1},  # Del estado 0, 'a' va a 1\n",
        "        1: {'b': 2},  # Del estado 1, 'b' va a 2\n",
        "        2: {'c': 3},  # Del estado 2, 'c' va a 3\n",
        "        3: {}         # Estado final no tiene más transiciones\n",
        "    }\n",
        ")\n",
        "\n",
        "# Crear el buscador de patrones híbrido\n",
        "hybrid_matcher = HybridPatternMatcher(nfa_minimized, dfa_minimized)\n",
        "\n",
        "# Texto de ejemplo\n",
        "text = \"aaabbbccc\"\n",
        "result = hybrid_matcher.search(text)\n",
        "print(\"Pattern found with Hybrid approach:\", result)"
      ],
      "metadata": {
        "colab": {
          "base_uri": "https://localhost:8080/"
        },
        "id": "WIj_EOOW0f4n",
        "outputId": "12101147-5ae2-4152-e490-4dd1385affc0"
      },
      "execution_count": 9,
      "outputs": [
        {
          "output_type": "stream",
          "name": "stdout",
          "text": [
            "Candidate indices found by NFA: [6, 7, 8]\n",
            "Pattern found with Hybrid approach: False\n"
          ]
        }
      ]
    },
    {
      "cell_type": "markdown",
      "source": [
        "PatternMatchingNFA es más adecuado para patrones complejos o cuando se requiere flexibilidad con múltiples transiciones. Sin embargo, su rendimiento disminuye con textos largos y patrones intrincados debido a la necesidad de mantener múltiples estados simultáneamente.\n",
        "\n",
        "PatternMatchingDFA ofrece un mejor rendimiento en tiempo de búsqueda, especialmente para patrones fijos y textos grandes. Sin embargo, su uso puede estar limitado por la memoria necesaria para construir el DFA cuando el patrón es complejo.\n",
        "\n",
        "En escenarios donde se necesita realizar muchas búsquedas sobre el mismo patrón, el PatternMatchingDFA es la mejor opción, siempre que se pueda permitir el coste de construcción inicial."
      ],
      "metadata": {
        "id": "EF-mxovJ0exq"
      }
    },
    {
      "cell_type": "markdown",
      "source": [
        "![Screenshot 2024-09-02 at 4.24.24 PM.png](data:image/png;base64,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)"
      ],
      "metadata": {
        "id": "khymUC0b1vC-"
      }
    },
    {
      "cell_type": "markdown",
      "source": [
        "El enfoque híbrido combina lo mejor de ambos algoritmos: la flexibilidad del NFA y la eficiencia del DFA. Es útil en escenarios donde es importante equilibrar precisión y rendimiento, como la búsqueda de patrones en textos largos y complejos."
      ],
      "metadata": {
        "id": "06mzoJ5S19C1"
      }
    }
  ],
  "metadata": {
    "colab": {
      "provenance": [],
      "include_colab_link": true
    },
    "kernelspec": {
      "display_name": "Python 3",
      "name": "python3"
    },
    "language_info": {
      "codemirror_mode": {
        "name": "ipython",
        "version": 3
      },
      "file_extension": ".py",
      "mimetype": "text/x-python",
      "name": "python",
      "nbconvert_exporter": "python",
      "pygments_lexer": "ipython3",
      "version": "3.11.9"
    }
  },
  "nbformat": 4,
  "nbformat_minor": 0
}